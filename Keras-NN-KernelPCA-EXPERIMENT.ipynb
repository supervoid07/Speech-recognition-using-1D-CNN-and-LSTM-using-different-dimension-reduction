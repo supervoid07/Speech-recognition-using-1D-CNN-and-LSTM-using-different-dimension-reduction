{
 "cells": [
  {
   "cell_type": "code",
   "execution_count": 1,
   "metadata": {},
   "outputs": [
    {
     "name": "stderr",
     "output_type": "stream",
     "text": [
      "C:\\Users\\lenovo_pc\\Anaconda3\\lib\\site-packages\\h5py\\__init__.py:36: FutureWarning: Conversion of the second argument of issubdtype from `float` to `np.floating` is deprecated. In future, it will be treated as `np.float64 == np.dtype(float).type`.\n",
      "  from ._conv import register_converters as _register_converters\n",
      "Using TensorFlow backend.\n"
     ]
    }
   ],
   "source": [
    "import keras\n",
    "import os\n",
    "import librosa\n",
    "\n",
    "\n",
    "import numpy as np\n",
    "import pandas as pd\n",
    "\n",
    "from sklearn.preprocessing import StandardScaler\n",
    "from sklearn.decomposition import KernelPCA\n",
    "\n",
    "from keras.models import Sequential\n",
    "from keras.utils import np_utils\n",
    "from keras.utils import to_categorical\n",
    "from keras.layers import Dense, Dropout, GaussianNoise, Conv1D\n",
    "from keras.preprocessing.image import ImageDataGenerator\n",
    "\n",
    "import matplotlib.pyplot as plt\n",
    "import seaborn as sns\n",
    "%matplotlib inline"
   ]
  },
  {
   "cell_type": "code",
   "execution_count": 2,
   "metadata": {},
   "outputs": [],
   "source": [
    "DATA_PATH = r'C:\\Users\\lenovo_pc\\Desktop\\CNN_SR\\Dataset-v2'\n",
    "VALUE_PATH = r'C:\\Users\\lenovo_pc\\Desktop\\CNN_SR\\kernelPca_matrix'"
   ]
  },
  {
   "cell_type": "code",
   "execution_count": 3,
   "metadata": {},
   "outputs": [],
   "source": [
    "def get_labels(path):\n",
    "    labels = os.listdir(path)\n",
    "    label_indices = np.arange(0, len(labels))    \n",
    "    return labels, label_indices, to_categorical(label_indices)\n",
    "\n",
    "\n",
    "\n"
   ]
  },
  {
   "cell_type": "code",
   "execution_count": 4,
   "metadata": {},
   "outputs": [],
   "source": [
    "\n",
    "\n",
    "def save_data_to_array(path, max_pad_len):\n",
    "    labels, _, _ = get_labels(path)\n",
    "\n",
    "    for label in labels:\n",
    "        # Init mfcc vectors\n",
    "        melspectrogram_vectors = []\n",
    "\n",
    "        wavfiles = [path + '/' + label + '/' + wavfile for wavfile in os.listdir(path + '/' + label)]\n",
    "        #wavfiles = librosa.util.find_files(db)\n",
    "        #print(wavfiles)\n",
    "        x=0\n",
    "        for wavfile in wavfiles:\n",
    "            name=label+'_'+str(x)\n",
    "            melspectrogram = wav2melspectrogram(wavfile, name, max_pad_len=max_pad_len)            \n",
    "            melspectrogram_vectors.append(melspectrogram)            \n",
    "            x=x+1\n",
    "        \n",
    "        #computing PCA and saving\n",
    "        \n",
    "        np.save(label + '.npy', melspectrogram_vectors)\n",
    "        #y=np.load(label + '.npy')\n",
    "        #y = sklearn.preprocessing.scale(y)\n",
    "        #y.mean()\n",
    "        #model = sklearn.decomposition.PCA(n_components=2, whiten=True)\n",
    "        #model.fit(y)\n",
    "        #y = model.transform(y)\n",
    "        #pd.DataFrame(y).to_csv(VALUE_PATH+'/'+label+'.csv')\n",
    "        \n",
    "        \n",
    "sample_x=[]\n",
    "\n",
    "def wav2melspectrogram(file_path, name, max_pad_len):\n",
    "    wave, sr = librosa.load(file_path)\n",
    "    x = librosa.feature.melspectrogram(wave, sr=sr)\n",
    "    pad_width = max_pad_len - x.shape[1]\n",
    "    x = np.pad(x, pad_width=((0, 0), (0, pad_width)), mode='constant')\n",
    "    #here the dimensions are getting reduced \n",
    "    #through PCA decompostion\n",
    "    x = reduce_dimension(x)\n",
    "    pd.DataFrame(x).to_csv(VALUE_PATH+'/'+name+'.csv')\n",
    "    return x"
   ]
  },
  {
   "cell_type": "markdown",
   "metadata": {},
   "source": [
    "# K-PCA decomposition\n"
   ]
  },
  {
   "cell_type": "code",
   "execution_count": null,
   "metadata": {},
   "outputs": [],
   "source": [
    "#labels, indices, _ = get_labels(DATA_PATH)\n",
    "\n",
    "#### Getting first arrays\n",
    "#T = np.load(labels[0] + '.npy')\n",
    "#### Getting first element of first array\n",
    "#X = T[127]\n",
    "#print(X.shape)\n",
    "#scaler = StandardScaler()\n",
    "#scaler.fit(X.T)\n",
    "#X_sample = scaler.transform(X.T)\n",
    "####X_sc_test = scaler.transform(X_test)\n",
    "\n",
    "#kpca = KernelPCA(n_components=128)\n",
    "#kpca.fit(X.T)\n",
    "\n",
    "#kpca_transform = kpca.fit_transform(X.T)\n",
    "#explained_variance = np.var(kpca_transform , axis=0)\n",
    "#explained_variance_ratio = explained_variance / np.sum(explained_variance)\n",
    "#np.cumsum(explained_variance_ratio)\n",
    "\n",
    "#plt.plot(np.cumsum(explained_variance_ratio))\n",
    "#plt.xlabel('Number of components')\n",
    "#plt.ylabel('Cumulative explained variance')\n",
    "\n",
    "###########\n",
    "\n"
   ]
  },
  {
   "cell_type": "code",
   "execution_count": 7,
   "metadata": {},
   "outputs": [
    {
     "name": "stdout",
     "output_type": "stream",
     "text": [
      "(128, 22)\n",
      "(22, 128)\n",
      "(22, 6)\n"
     ]
    }
   ],
   "source": [
    "NCOMPONENTS = 6\n",
    "\n",
    "kpca = KernelPCA(n_components=NCOMPONENTS)\n",
    "X_kpca = kpca.fit_transform(X.T)\n",
    "\n",
    "print(X.shape)\n",
    "print(X_sample.shape)\n",
    "print(X_kpca.shape)"
   ]
  },
  {
   "cell_type": "code",
   "execution_count": 8,
   "metadata": {},
   "outputs": [],
   "source": [
    "def reduce_dimension(X):\n",
    "    scaler = StandardScaler()\n",
    "    scaler.fit(X.T)\n",
    "    X_data = scaler.transform(X.T)\n",
    "    \n",
    "    kpca = KernelPCA(n_components=NCOMPONENTS)\n",
    "    X_kpca = kpca.fit_transform(X.T)\n",
    "    \n",
    "    return X_kpca.T"
   ]
  },
  {
   "cell_type": "code",
   "execution_count": 9,
   "metadata": {},
   "outputs": [],
   "source": [
    "from sklearn.model_selection import train_test_split\n",
    "\n",
    "\n",
    "def get_train_test(split_ratio=0.8, random_state=42):\n",
    "    # Get available labels\n",
    "    labels, indices, _ = get_labels(DATA_PATH)\n",
    "\n",
    "    # Getting first arrays\n",
    "    X = np.load(labels[0] + '.npy')\n",
    "    # print(X.shape[0]) returns: 129\n",
    "    y = np.zeros(X.shape[0])\n",
    "\n",
    "    # Append all of the dataset into one single array, same goes for y\n",
    "    for i, label in enumerate(labels[1:]):\n",
    "        x = np.load(label + '.npy')\n",
    "        X = np.vstack((X, x))\n",
    "        #print(X.shape[0]) returns: 129+152=281\n",
    "        #print(i) returns: 0: So all y values are 1 for Seven and 0 for Tin\n",
    "        y = np.append(y, np.full(x.shape[0], fill_value= (i + 1)))\n",
    "\n",
    "    assert X.shape[0] == len(y)\n",
    "\n",
    "    return train_test_split(X, y, test_size= (1 - split_ratio), random_state=random_state, shuffle=True)\n",
    "\n"
   ]
  },
  {
   "cell_type": "code",
   "execution_count": 10,
   "metadata": {},
   "outputs": [],
   "source": [
    "\n",
    "#db = r'C:\\Users\\lenovo_pc\\Desktop\\CNN_SR\\SampleData'\n",
    "\n",
    "\n",
    "# Second dimension of the feature is dim2\n",
    "feature_dim_2 = 22\n",
    "\n",
    "# Save data to array file first\n",
    "save_data_to_array(DATA_PATH,feature_dim_2)\n",
    "\n",
    "# # Loading train set and test set\n",
    "X_train, X_test, y_train, y_test = get_train_test()\n",
    "\n",
    "# # Feature dimension\n",
    "feature_dim_1 = 128\n",
    "channel = 1\n",
    "epochs = 50\n",
    "batch_size = 100\n",
    "verbose = 1\n",
    "num_classes = 2\n",
    "\n",
    "\n",
    "y_train_hot = to_categorical(y_train)\n",
    "y_test_hot = to_categorical(y_test)"
   ]
  },
  {
   "cell_type": "code",
   "execution_count": 11,
   "metadata": {},
   "outputs": [
    {
     "name": "stdout",
     "output_type": "stream",
     "text": [
      "(224, 6, 22)\n",
      "(57, 6, 22)\n"
     ]
    }
   ],
   "source": [
    "\n",
    "#X_train = np.array(x_train)\n",
    "print(X_train.shape)\n",
    "print(X_test.shape)"
   ]
  },
  {
   "cell_type": "markdown",
   "metadata": {},
   "source": [
    "# *********++++++*********++++++*********++++++*********++++++"
   ]
  },
  {
   "cell_type": "code",
   "execution_count": 12,
   "metadata": {},
   "outputs": [],
   "source": [
    "from keras.models import Sequential\n",
    "from keras.layers import Dense, Dropout\n",
    "from keras.layers import Embedding\n",
    "from keras.layers import Conv1D, GlobalAveragePooling1D, MaxPooling1D"
   ]
  },
  {
   "cell_type": "code",
   "execution_count": 13,
   "metadata": {},
   "outputs": [],
   "source": [
    "seq_length = 128\n",
    "\n",
    "model = Sequential()\n",
    "model.add(Conv1D(64, 3, activation='relu', input_shape=(6,22)))\n",
    "model.add(Conv1D(64, 4, activation='relu'))\n",
    "model.add(Conv1D(64, 1, activation='relu'))\n",
    "model.add(Conv1D(64, 1, activation='relu'))\n",
    "model.add(MaxPooling1D(1))\n",
    "model.add(Conv1D(128, 1, activation='relu'))\n",
    "model.add(Conv1D(128, 1, activation='relu'))\n",
    "model.add(Conv1D(128, 1, activation='relu'))\n",
    "model.add(MaxPooling1D(1))\n",
    "model.add(Conv1D(256, 1, activation='relu'))\n",
    "model.add(Conv1D(256, 1, activation='relu'))\n",
    "model.add(GlobalAveragePooling1D())\n",
    "model.add(Dropout(0.5))\n",
    "model.add(Dense(2, activation='sigmoid'))"
   ]
  },
  {
   "cell_type": "code",
   "execution_count": 14,
   "metadata": {},
   "outputs": [],
   "source": [
    "model.compile(loss='binary_crossentropy',\n",
    "              optimizer='sgd',\n",
    "              metrics=['accuracy'])"
   ]
  },
  {
   "cell_type": "code",
   "execution_count": 15,
   "metadata": {},
   "outputs": [
    {
     "name": "stdout",
     "output_type": "stream",
     "text": [
      "Train on 224 samples, validate on 57 samples\n",
      "Epoch 1/10\n",
      "224/224 [==============================] - 1s 6ms/step - loss: 0.7237 - acc: 0.5290 - val_loss: 0.5912 - val_acc: 0.5263\n",
      "Epoch 2/10\n",
      "224/224 [==============================] - 0s 925us/step - loss: 0.5122 - acc: 0.7277 - val_loss: 0.4653 - val_acc: 0.8509\n",
      "Epoch 3/10\n",
      "224/224 [==============================] - 0s 911us/step - loss: 0.3818 - acc: 0.9129 - val_loss: 0.3534 - val_acc: 0.9211\n",
      "Epoch 4/10\n",
      "224/224 [==============================] - 0s 961us/step - loss: 0.2178 - acc: 0.9799 - val_loss: 0.2703 - val_acc: 0.9298\n",
      "Epoch 5/10\n",
      "224/224 [==============================] - 0s 996us/step - loss: 0.1484 - acc: 0.9844 - val_loss: 0.2058 - val_acc: 0.9298\n",
      "Epoch 6/10\n",
      "224/224 [==============================] - 0s 934us/step - loss: 0.1091 - acc: 0.9911 - val_loss: 0.2003 - val_acc: 0.9474\n",
      "Epoch 7/10\n",
      "224/224 [==============================] - 0s 943us/step - loss: 0.0856 - acc: 0.9933 - val_loss: 0.2499 - val_acc: 0.9298\n",
      "Epoch 8/10\n",
      "224/224 [==============================] - 0s 952us/step - loss: 0.0723 - acc: 1.0000 - val_loss: 0.1902 - val_acc: 0.9474\n",
      "Epoch 9/10\n",
      "224/224 [==============================] - 0s 929us/step - loss: 0.7451 - acc: 0.8929 - val_loss: 0.2948 - val_acc: 0.9123\n",
      "Epoch 10/10\n",
      "224/224 [==============================] - 0s 938us/step - loss: 0.1433 - acc: 0.9799 - val_loss: 0.5237 - val_acc: 0.7982\n"
     ]
    }
   ],
   "source": [
    "\n",
    "history = model.fit(X_train, y_train_hot, batch_size=7, epochs=10, validation_data=(X_test, y_test_hot))"
   ]
  },
  {
   "cell_type": "code",
   "execution_count": 16,
   "metadata": {},
   "outputs": [
    {
     "name": "stdout",
     "output_type": "stream",
     "text": [
      "model train data score       :  93.0 %\n",
      "model test data score        :  80.0 %\n"
     ]
    }
   ],
   "source": [
    "score = model.evaluate(X_train, y_train_hot, verbose=0) \n",
    "print (\"model train data score       : \",round(score[1]*100) , \"%\")\n",
    "\n",
    "score = model.evaluate(X_test, y_test_hot, verbose=0) \n",
    "print (\"model test data score        : \",round(score[1]*100) , \"%\")\n"
   ]
  },
  {
   "cell_type": "code",
   "execution_count": 17,
   "metadata": {},
   "outputs": [
    {
     "data": {
      "image/png": "[encoded data removed]",
      "text/plain": [
       "<Figure size 432x288 with 1 Axes>"
      ]
     },
     "metadata": {
      "needs_background": "light"
     },
     "output_type": "display_data"
    }
   ],
   "source": [
    "# summarize history for accuracy\n",
    "plt.plot(history.history['acc'])\n",
    "plt.plot(history.history['val_acc'])\n",
    "plt.title('model accuracy')\n",
    "plt.ylabel('accuracy')\n",
    "plt.xlabel('epoch')\n",
    "plt.legend(['train', 'test'], loc='upper left')\n",
    "plt.show()\n"
   ]
  },
  {
   "cell_type": "code",
   "execution_count": 18,
   "metadata": {},
   "outputs": [
    {
     "data": {
      "image/png": "[encoded data removed]",
      "text/plain": [
       "<Figure size 432x288 with 1 Axes>"
      ]
     },
     "metadata": {
      "needs_background": "light"
     },
     "output_type": "display_data"
    }
   ],
   "source": [
    "# summarize history for loss\n",
    "plt.plot(history.history['loss'])\n",
    "plt.plot(history.history['val_loss'])\n",
    "plt.title('model loss')\n",
    "plt.ylabel('loss')\n",
    "plt.xlabel('epoch')\n",
    "plt.legend(['train', 'test'], loc='upper left')\n",
    "plt.show()"
   ]
  },
  {
   "cell_type": "markdown",
   "metadata": {},
   "source": [
    "# *********++++++*********++++++*********++++++*********++++++"
   ]
  },
  {
   "cell_type": "code",
   "execution_count": 19,
   "metadata": {},
   "outputs": [],
   "source": [
    "seq_length = 128\n",
    "\n",
    "model = Sequential()\n",
    "model.add(Conv1D(64, 3, activation='relu', input_shape=(6,22)))\n",
    "model.add(Conv1D(64, 3, activation='relu'))\n",
    "model.add(MaxPooling1D(2))\n",
    "model.add(Conv1D(128, 1, activation='relu'))\n",
    "model.add(Conv1D(128, 1, activation='relu'))\n",
    "model.add(GlobalAveragePooling1D())\n",
    "model.add(Dropout(0.5))\n",
    "model.add(Dense(2, activation='sigmoid'))\n"
   ]
  },
  {
   "cell_type": "code",
   "execution_count": 20,
   "metadata": {},
   "outputs": [],
   "source": [
    "model.compile(loss='binary_crossentropy',\n",
    "              optimizer='rmsprop',\n",
    "              metrics=['accuracy'])"
   ]
  },
  {
   "cell_type": "code",
   "execution_count": 21,
   "metadata": {},
   "outputs": [
    {
     "name": "stdout",
     "output_type": "stream",
     "text": [
      "Train on 224 samples, validate on 57 samples\n",
      "Epoch 1/50\n",
      "224/224 [==============================] - 1s 4ms/step - loss: 2.4145 - acc: 0.5446 - val_loss: 0.5057 - val_acc: 0.8070\n",
      "Epoch 2/50\n",
      "224/224 [==============================] - 0s 121us/step - loss: 0.8727 - acc: 0.7277 - val_loss: 0.2960 - val_acc: 0.9035\n",
      "Epoch 3/50\n",
      "224/224 [==============================] - 0s 130us/step - loss: 0.4949 - acc: 0.8683 - val_loss: 0.2401 - val_acc: 0.9386\n",
      "Epoch 4/50\n",
      "224/224 [==============================] - 0s 112us/step - loss: 0.4399 - acc: 0.8705 - val_loss: 0.2070 - val_acc: 0.9474\n",
      "Epoch 5/50\n",
      "224/224 [==============================] - 0s 134us/step - loss: 0.2322 - acc: 0.9353 - val_loss: 0.3225 - val_acc: 0.8772\n",
      "Epoch 6/50\n",
      "224/224 [==============================] - 0s 130us/step - loss: 0.2389 - acc: 0.9375 - val_loss: 0.1422 - val_acc: 0.9737\n",
      "Epoch 7/50\n",
      "224/224 [==============================] - 0s 134us/step - loss: 0.1836 - acc: 0.9710 - val_loss: 0.1323 - val_acc: 0.9649\n",
      "Epoch 8/50\n",
      "224/224 [==============================] - 0s 134us/step - loss: 0.1446 - acc: 0.9687 - val_loss: 0.1375 - val_acc: 0.9737\n",
      "Epoch 9/50\n",
      "224/224 [==============================] - 0s 134us/step - loss: 0.1152 - acc: 0.9777 - val_loss: 0.1192 - val_acc: 0.9912\n",
      "Epoch 10/50\n",
      "224/224 [==============================] - 0s 152us/step - loss: 0.1010 - acc: 0.9844 - val_loss: 0.1103 - val_acc: 0.9912\n",
      "Epoch 11/50\n",
      "224/224 [==============================] - 0s 116us/step - loss: 0.1018 - acc: 0.9866 - val_loss: 0.1217 - val_acc: 0.9474\n",
      "Epoch 12/50\n",
      "224/224 [==============================] - 0s 125us/step - loss: 0.1050 - acc: 0.9888 - val_loss: 0.1413 - val_acc: 0.9474\n",
      "Epoch 13/50\n",
      "224/224 [==============================] - 0s 138us/step - loss: 0.0817 - acc: 0.9844 - val_loss: 0.0813 - val_acc: 0.9825\n",
      "Epoch 14/50\n",
      "224/224 [==============================] - 0s 116us/step - loss: 0.0646 - acc: 0.9978 - val_loss: 0.0545 - val_acc: 1.0000\n",
      "Epoch 15/50\n",
      "224/224 [==============================] - 0s 161us/step - loss: 0.0540 - acc: 0.9955 - val_loss: 0.0449 - val_acc: 1.0000\n",
      "Epoch 16/50\n",
      "224/224 [==============================] - 0s 134us/step - loss: 0.0543 - acc: 0.9978 - val_loss: 0.0466 - val_acc: 1.0000\n",
      "Epoch 17/50\n",
      "224/224 [==============================] - 0s 125us/step - loss: 0.0461 - acc: 1.0000 - val_loss: 0.0385 - val_acc: 1.0000\n",
      "Epoch 18/50\n",
      "224/224 [==============================] - 0s 197us/step - loss: 0.0434 - acc: 0.9978 - val_loss: 0.0420 - val_acc: 1.0000\n",
      "Epoch 19/50\n",
      "224/224 [==============================] - 0s 125us/step - loss: 0.0925 - acc: 0.9799 - val_loss: 0.0274 - val_acc: 1.0000\n",
      "Epoch 20/50\n",
      "224/224 [==============================] - 0s 125us/step - loss: 0.0384 - acc: 0.9978 - val_loss: 0.0260 - val_acc: 1.0000\n",
      "Epoch 21/50\n",
      "224/224 [==============================] - 0s 134us/step - loss: 0.0355 - acc: 0.9978 - val_loss: 0.0402 - val_acc: 0.9912\n",
      "Epoch 22/50\n",
      "224/224 [==============================] - 0s 143us/step - loss: 0.0309 - acc: 0.9955 - val_loss: 0.0253 - val_acc: 1.0000\n",
      "Epoch 23/50\n",
      "224/224 [==============================] - 0s 138us/step - loss: 0.0225 - acc: 1.0000 - val_loss: 0.0219 - val_acc: 1.0000\n",
      "Epoch 24/50\n",
      "224/224 [==============================] - 0s 129us/step - loss: 0.0220 - acc: 1.0000 - val_loss: 0.0149 - val_acc: 1.0000\n",
      "Epoch 25/50\n",
      "224/224 [==============================] - 0s 143us/step - loss: 0.0182 - acc: 1.0000 - val_loss: 0.0137 - val_acc: 1.0000\n",
      "Epoch 26/50\n",
      "224/224 [==============================] - 0s 152us/step - loss: 0.0144 - acc: 1.0000 - val_loss: 0.0077 - val_acc: 1.0000\n",
      "Epoch 27/50\n",
      "224/224 [==============================] - 0s 138us/step - loss: 0.0145 - acc: 1.0000 - val_loss: 0.0062 - val_acc: 1.0000\n",
      "Epoch 28/50\n",
      "224/224 [==============================] - 0s 130us/step - loss: 0.0094 - acc: 1.0000 - val_loss: 0.0073 - val_acc: 1.0000\n",
      "Epoch 29/50\n",
      "224/224 [==============================] - 0s 161us/step - loss: 0.0092 - acc: 1.0000 - val_loss: 0.0063 - val_acc: 1.0000\n",
      "Epoch 30/50\n",
      "224/224 [==============================] - 0s 138us/step - loss: 0.0107 - acc: 1.0000 - val_loss: 0.0052 - val_acc: 1.0000\n",
      "Epoch 31/50\n",
      "224/224 [==============================] - 0s 121us/step - loss: 0.0075 - acc: 1.0000 - val_loss: 0.0042 - val_acc: 1.0000\n",
      "Epoch 32/50\n",
      "224/224 [==============================] - 0s 116us/step - loss: 0.0064 - acc: 1.0000 - val_loss: 0.0019 - val_acc: 1.0000\n",
      "Epoch 33/50\n",
      "224/224 [==============================] - 0s 130us/step - loss: 0.0061 - acc: 1.0000 - val_loss: 0.0033 - val_acc: 1.0000\n",
      "Epoch 34/50\n",
      "224/224 [==============================] - 0s 130us/step - loss: 0.0032 - acc: 1.0000 - val_loss: 6.1942e-04 - val_acc: 1.0000\n",
      "Epoch 35/50\n",
      "224/224 [==============================] - 0s 125us/step - loss: 0.0656 - acc: 0.9955 - val_loss: 0.2818 - val_acc: 0.9825\n",
      "Epoch 36/50\n",
      "224/224 [==============================] - 0s 143us/step - loss: 0.1013 - acc: 0.9911 - val_loss: 0.0014 - val_acc: 1.0000\n",
      "Epoch 37/50\n",
      "224/224 [==============================] - 0s 112us/step - loss: 0.0026 - acc: 1.0000 - val_loss: 0.0011 - val_acc: 1.0000\n",
      "Epoch 38/50\n",
      "224/224 [==============================] - 0s 121us/step - loss: 0.0025 - acc: 1.0000 - val_loss: 6.1103e-04 - val_acc: 1.0000\n",
      "Epoch 39/50\n",
      "224/224 [==============================] - 0s 130us/step - loss: 0.0015 - acc: 1.0000 - val_loss: 4.4583e-04 - val_acc: 1.0000\n",
      "Epoch 40/50\n",
      "224/224 [==============================] - 0s 112us/step - loss: 0.0015 - acc: 1.0000 - val_loss: 4.3822e-04 - val_acc: 1.0000\n",
      "Epoch 41/50\n",
      "224/224 [==============================] - 0s 134us/step - loss: 0.0015 - acc: 1.0000 - val_loss: 7.2732e-04 - val_acc: 1.0000\n",
      "Epoch 42/50\n",
      "224/224 [==============================] - 0s 116us/step - loss: 0.0011 - acc: 1.0000 - val_loss: 2.9501e-04 - val_acc: 1.0000\n",
      "Epoch 43/50\n",
      "224/224 [==============================] - 0s 161us/step - loss: 7.0293e-04 - acc: 1.0000 - val_loss: 2.2499e-04 - val_acc: 1.0000\n",
      "Epoch 44/50\n",
      "224/224 [==============================] - 0s 112us/step - loss: 9.0993e-04 - acc: 1.0000 - val_loss: 1.4445e-04 - val_acc: 1.0000\n",
      "Epoch 45/50\n",
      "224/224 [==============================] - 0s 125us/step - loss: 6.3011e-04 - acc: 1.0000 - val_loss: 1.9454e-04 - val_acc: 1.0000\n",
      "Epoch 46/50\n",
      "224/224 [==============================] - 0s 134us/step - loss: 7.4949e-04 - acc: 1.0000 - val_loss: 3.1366e-04 - val_acc: 1.0000\n",
      "Epoch 47/50\n",
      "224/224 [==============================] - 0s 125us/step - loss: 3.8557e-04 - acc: 1.0000 - val_loss: 5.5939e-05 - val_acc: 1.0000\n",
      "Epoch 48/50\n",
      "224/224 [==============================] - 0s 116us/step - loss: 3.2238e-04 - acc: 1.0000 - val_loss: 5.3866e-05 - val_acc: 1.0000\n",
      "Epoch 49/50\n",
      "224/224 [==============================] - 0s 125us/step - loss: 2.0583e-04 - acc: 1.0000 - val_loss: 2.3003e-05 - val_acc: 1.0000\n",
      "Epoch 50/50\n",
      "224/224 [==============================] - 0s 134us/step - loss: 2.7434e-04 - acc: 1.0000 - val_loss: 2.5128e-05 - val_acc: 1.0000\n"
     ]
    }
   ],
   "source": [
    "#model.fit(x_train, y_train, batch_size=7, epochs=10)\n",
    "\n",
    "history = model.fit(X_train, y_train_hot, batch_size=batch_size, epochs=epochs, verbose=verbose, validation_data=(X_test, y_test_hot))"
   ]
  },
  {
   "cell_type": "code",
   "execution_count": 22,
   "metadata": {},
   "outputs": [
    {
     "name": "stdout",
     "output_type": "stream",
     "text": [
      "model train data score       :  100.0 %\n",
      "model test data score        :  100.0 %\n"
     ]
    }
   ],
   "source": [
    "score = model.evaluate(X_train, y_train_hot, verbose=0) \n",
    "print (\"model train data score       : \",round(score[1]*100) , \"%\")\n",
    "\n",
    "score = model.evaluate(X_test, y_test_hot, verbose=0) \n",
    "print (\"model test data score        : \",round(score[1]*100) , \"%\")\n"
   ]
  },
  {
   "cell_type": "code",
   "execution_count": 23,
   "metadata": {},
   "outputs": [
    {
     "data": {
      "image/png": "[encoded data removed]",
      "text/plain": [
       "<Figure size 432x288 with 1 Axes>"
      ]
     },
     "metadata": {
      "needs_background": "light"
     },
     "output_type": "display_data"
    }
   ],
   "source": [
    "# summarize history for accuracy\n",
    "plt.plot(history.history['acc'])\n",
    "plt.plot(history.history['val_acc'])\n",
    "plt.title('model accuracy')\n",
    "plt.ylabel('accuracy')\n",
    "plt.xlabel('epoch')\n",
    "plt.legend(['train', 'test'], loc='upper left')\n",
    "plt.show()"
   ]
  },
  {
   "cell_type": "code",
   "execution_count": 24,
   "metadata": {},
   "outputs": [
    {
     "data": {
      "image/png": "[encoded data removed]",
      "text/plain": [
       "<Figure size 432x288 with 1 Axes>"
      ]
     },
     "metadata": {
      "needs_background": "light"
     },
     "output_type": "display_data"
    }
   ],
   "source": [
    "# summarize history for loss\n",
    "plt.plot(history.history['loss'])\n",
    "plt.plot(history.history['val_loss'])\n",
    "plt.title('model loss')\n",
    "plt.ylabel('loss')\n",
    "plt.xlabel('epoch')\n",
    "plt.legend(['train', 'test'], loc='upper left')\n",
    "plt.show()"
   ]
  },
  {
   "cell_type": "markdown",
   "metadata": {},
   "source": [
    "# *********++++++*********++++++*********++++++*********++++++"
   ]
  },
  {
   "cell_type": "markdown",
   "metadata": {},
   "source": [
    "# RNN+LSTM"
   ]
  },
  {
   "cell_type": "code",
   "execution_count": 25,
   "metadata": {},
   "outputs": [],
   "source": [
    "import numpy as np\n",
    "from keras.models import Sequential\n",
    "from keras.layers import Dense, Dropout, Activation, Flatten, LSTM\n",
    "from keras.layers import Convolution2D, MaxPooling2D\n",
    "from keras.optimizers import Adam\n",
    "from keras.callbacks import EarlyStopping,ReduceLROnPlateau,ModelCheckpoint,TensorBoard,ProgbarLogger\n",
    "from keras.utils import np_utils\n",
    "from sklearn import metrics \n",
    "from sklearn.metrics import confusion_matrix, classification_report, accuracy_score\n",
    "from sklearn.preprocessing import LabelEncoder\n",
    "import itertools"
   ]
  },
  {
   "cell_type": "code",
   "execution_count": 26,
   "metadata": {},
   "outputs": [
    {
     "name": "stdout",
     "output_type": "stream",
     "text": [
      "Build LSTM RNN model ...\n",
      "_________________________________________________________________\n",
      "Layer (type)                 Output Shape              Param #   \n",
      "=================================================================\n",
      "lstm_1 (LSTM)                (None, 6, 64)             22272     \n",
      "_________________________________________________________________\n",
      "lstm_2 (LSTM)                (None, 32)                12416     \n",
      "_________________________________________________________________\n",
      "dense_3 (Dense)              (None, 2)                 66        \n",
      "=================================================================\n",
      "Total params: 34,754\n",
      "Trainable params: 34,754\n",
      "Non-trainable params: 0\n",
      "_________________________________________________________________\n"
     ]
    }
   ],
   "source": [
    "print('Build LSTM RNN model ...')\n",
    "model = Sequential()\n",
    "model.add(LSTM(units=64, dropout=0.05, recurrent_dropout=0.20, return_sequences=True,input_shape = (6,22)))\n",
    "model.add(LSTM(units=32, dropout=0.05, recurrent_dropout=0.20, return_sequences=False))\n",
    "model.add(Dense(2, activation='softmax'))\n",
    "model.compile(loss='categorical_crossentropy', optimizer='Adamax', metrics=['acc','mse', 'mae', 'mape', 'cosine'])\n",
    "model.summary()"
   ]
  },
  {
   "cell_type": "code",
   "execution_count": 27,
   "metadata": {},
   "outputs": [
    {
     "name": "stdout",
     "output_type": "stream",
     "text": [
      "training started..... please wait.\n",
      "\n",
      "Epoch 00001: loss improved from inf to 0.58879, saving model to ./best_model_trained.hdf5\n",
      "\n",
      "Epoch 00002: loss improved from 0.58879 to 0.32316, saving model to ./best_model_trained.hdf5\n",
      "\n",
      "Epoch 00003: loss improved from 0.32316 to 0.16455, saving model to ./best_model_trained.hdf5\n",
      "\n",
      "Epoch 00004: loss improved from 0.16455 to 0.08047, saving model to ./best_model_trained.hdf5\n",
      "\n",
      "Epoch 00005: loss improved from 0.08047 to 0.06318, saving model to ./best_model_trained.hdf5\n",
      "\n",
      "Epoch 00006: loss improved from 0.06318 to 0.04526, saving model to ./best_model_trained.hdf5\n",
      "\n",
      "Epoch 00007: loss improved from 0.04526 to 0.03181, saving model to ./best_model_trained.hdf5\n",
      "\n",
      "Epoch 00008: loss improved from 0.03181 to 0.01777, saving model to ./best_model_trained.hdf5\n",
      "\n",
      "Epoch 00009: loss did not improve from 0.01777\n",
      "\n",
      "Epoch 00010: loss improved from 0.01777 to 0.01329, saving model to ./best_model_trained.hdf5\n",
      "\n",
      "Epoch 00011: loss improved from 0.01329 to 0.00781, saving model to ./best_model_trained.hdf5\n",
      "\n",
      "Epoch 00012: loss did not improve from 0.00781\n",
      "\n",
      "Epoch 00013: loss did not improve from 0.00781\n",
      "\n",
      "Epoch 00014: loss improved from 0.00781 to 0.00508, saving model to ./best_model_trained.hdf5\n",
      "\n",
      "Epoch 00015: loss did not improve from 0.00508\n",
      "\n",
      "Epoch 00016: loss did not improve from 0.00508\n",
      "\n",
      "Epoch 00017: loss did not improve from 0.00508\n",
      "\n",
      "Epoch 00018: loss did not improve from 0.00508\n",
      "\n",
      "Epoch 00019: loss did not improve from 0.00508\n",
      "\n",
      "Epoch 00020: loss did not improve from 0.00508\n",
      "\n",
      "Epoch 00021: loss improved from 0.00508 to 0.00268, saving model to ./best_model_trained.hdf5\n",
      "\n",
      "Epoch 00022: loss did not improve from 0.00268\n",
      "\n",
      "Epoch 00023: loss did not improve from 0.00268\n",
      "\n",
      "Epoch 00024: loss did not improve from 0.00268\n",
      "\n",
      "Epoch 00025: loss did not improve from 0.00268\n",
      "\n",
      "Epoch 00026: loss did not improve from 0.00268\n",
      "\n",
      "Epoch 00027: loss did not improve from 0.00268\n",
      "\n",
      "Epoch 00028: loss did not improve from 0.00268\n",
      "\n",
      "Epoch 00029: loss did not improve from 0.00268\n",
      "\n",
      "Epoch 00030: loss improved from 0.00268 to 0.00198, saving model to ./best_model_trained.hdf5\n",
      "\n",
      "Epoch 00031: loss did not improve from 0.00198\n",
      "\n",
      "Epoch 00032: loss did not improve from 0.00198\n",
      "\n",
      "Epoch 00033: loss improved from 0.00198 to 0.00134, saving model to ./best_model_trained.hdf5\n",
      "\n",
      "Epoch 00034: loss did not improve from 0.00134\n",
      "\n",
      "Epoch 00035: loss did not improve from 0.00134\n",
      "\n",
      "Epoch 00036: loss did not improve from 0.00134\n",
      "\n",
      "Epoch 00037: loss did not improve from 0.00134\n",
      "\n",
      "Epoch 00038: loss improved from 0.00134 to 0.00132, saving model to ./best_model_trained.hdf5\n",
      "\n",
      "Epoch 00039: loss did not improve from 0.00132\n",
      "\n",
      "Epoch 00040: loss did not improve from 0.00132\n",
      "\n",
      "Epoch 00041: loss did not improve from 0.00132\n",
      "\n",
      "Epoch 00042: loss did not improve from 0.00132\n",
      "\n",
      "Epoch 00043: loss did not improve from 0.00132\n",
      "\n",
      "Epoch 00044: loss did not improve from 0.00132\n",
      "\n",
      "Epoch 00045: loss did not improve from 0.00132\n",
      "\n",
      "Epoch 00046: loss improved from 0.00132 to 0.00053, saving model to ./best_model_trained.hdf5\n",
      "\n",
      "Epoch 00047: loss did not improve from 0.00053\n",
      "\n",
      "Epoch 00048: loss did not improve from 0.00053\n",
      "\n",
      "Epoch 00049: loss did not improve from 0.00053\n",
      "\n",
      "Epoch 00050: loss did not improve from 0.00053\n",
      "training finised!\n",
      "Wall time: 35.8 s\n"
     ]
    }
   ],
   "source": [
    "%%time\n",
    "# saved model checkpoint file\n",
    "best_model_file=\"./best_model_trained.hdf5\"\n",
    "#train_model_file=file_path+\"/checkpoints/weights.best_{epoch:02d}-{loss:.2f}.hdf5\"\n",
    "MAX_PATIENT=12\n",
    "MAX_EPOCHS=50\n",
    "MAX_BATCH=7\n",
    "\n",
    "# callbacks\n",
    "# removed EarlyStopping(patience=MAX_PATIENT)\n",
    "callback=[ReduceLROnPlateau(patience=MAX_PATIENT, verbose=1),\n",
    "          ModelCheckpoint(filepath=best_model_file, monitor='loss', verbose=1, save_best_only=True)]\n",
    "\n",
    "print (\"training started..... please wait.\")\n",
    "# training\n",
    "history=model.fit(X_train, y_train_hot, \n",
    "                  batch_size=MAX_BATCH, \n",
    "                  epochs=MAX_EPOCHS,\n",
    "                  verbose=0,\n",
    "                  validation_data=(X_test, y_test_hot),\n",
    "                  callbacks=callback) \n",
    "\n",
    "print (\"training finised!\")\n",
    "\n"
   ]
  },
  {
   "cell_type": "code",
   "execution_count": 28,
   "metadata": {},
   "outputs": [
    {
     "name": "stdout",
     "output_type": "stream",
     "text": [
      "model train data score       :  100.0 %\n",
      "model test data score        :  100.0 %\n"
     ]
    }
   ],
   "source": [
    "score = model.evaluate(X_train, y_train_hot, verbose=0) \n",
    "print (\"model train data score       : \",round(score[1]*100) , \"%\")\n",
    "\n",
    "score = model.evaluate(X_test, y_test_hot, verbose=0) \n",
    "print (\"model test data score        : \",round(score[1]*100) , \"%\")"
   ]
  },
  {
   "cell_type": "code",
   "execution_count": 29,
   "metadata": {},
   "outputs": [
    {
     "data": {
      "image/png": "[encoded data removed]",
      "text/plain": [
       "<Figure size 432x288 with 1 Axes>"
      ]
     },
     "metadata": {
      "needs_background": "light"
     },
     "output_type": "display_data"
    }
   ],
   "source": [
    "# summarize history for accuracy\n",
    "plt.plot(history.history['acc'])\n",
    "plt.plot(history.history['val_acc'])\n",
    "plt.title('model accuracy')\n",
    "plt.ylabel('accuracy')\n",
    "plt.xlabel('epoch')\n",
    "plt.legend(['train', 'test'], loc='upper left')\n",
    "plt.show()"
   ]
  },
  {
   "cell_type": "code",
   "execution_count": 30,
   "metadata": {},
   "outputs": [
    {
     "data": {
      "image/png": "[encoded data removed]",
      "text/plain": [
       "<Figure size 432x288 with 1 Axes>"
      ]
     },
     "metadata": {
      "needs_background": "light"
     },
     "output_type": "display_data"
    }
   ],
   "source": [
    "# summarize history for loss\n",
    "plt.plot(history.history['loss'])\n",
    "plt.plot(history.history['val_loss'])\n",
    "plt.title('model loss')\n",
    "plt.ylabel('loss')\n",
    "plt.xlabel('epoch')\n",
    "plt.legend(['train', 'test'], loc='upper left')\n",
    "plt.show()"
   ]
  },
  {
   "cell_type": "code",
   "execution_count": null,
   "metadata": {},
   "outputs": [],
   "source": []
  }
 ],
 "metadata": {
  "kernelspec": {
   "display_name": "Python 3",
   "language": "python",
   "name": "python3"
  },
  "language_info": {
   "codemirror_mode": {
    "name": "ipython",
    "version": 3
   },
   "file_extension": ".py",
   "mimetype": "text/x-python",
   "name": "python",
   "nbconvert_exporter": "python",
   "pygments_lexer": "ipython3",
   "version": "3.6.4"
  }
 },
 "nbformat": 4,
 "nbformat_minor": 2
}
