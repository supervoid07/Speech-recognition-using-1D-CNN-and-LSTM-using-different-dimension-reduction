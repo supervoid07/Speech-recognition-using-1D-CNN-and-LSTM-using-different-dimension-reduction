{
 "cells": [
  {
   "cell_type": "code",
   "execution_count": 1,
   "metadata": {},
   "outputs": [
    {
     "name": "stderr",
     "output_type": "stream",
     "text": [
      "C:\\Users\\lenovo_pc\\Anaconda3\\lib\\site-packages\\h5py\\__init__.py:36: FutureWarning: Conversion of the second argument of issubdtype from `float` to `np.floating` is deprecated. In future, it will be treated as `np.float64 == np.dtype(float).type`.\n",
      "  from ._conv import register_converters as _register_converters\n",
      "Using TensorFlow backend.\n"
     ]
    }
   ],
   "source": [
    "import keras\n",
    "import os\n",
    "import librosa\n",
    "\n",
    "\n",
    "import numpy as np\n",
    "import pandas as pd\n",
    "\n",
    "from sklearn.preprocessing import StandardScaler\n",
    "from sklearn.decomposition import PCA\n",
    "\n",
    "from keras.models import Sequential\n",
    "from keras.utils import np_utils\n",
    "from keras.utils import to_categorical\n",
    "from keras.layers import Dense, Dropout, GaussianNoise, Conv1D\n",
    "from keras.preprocessing.image import ImageDataGenerator\n",
    "\n",
    "import matplotlib.pyplot as plt\n",
    "import seaborn as sns\n",
    "%matplotlib inline"
   ]
  },
  {
   "cell_type": "code",
   "execution_count": 2,
   "metadata": {},
   "outputs": [],
   "source": [
    "DATA_PATH = r'C:\\Users\\lenovo_pc\\Desktop\\CNN_SR\\Dataset-v2'\n",
    "VALUE_PATH = r'C:\\Users\\lenovo_pc\\Desktop\\CNN_SR\\pca_matrix'"
   ]
  },
  {
   "cell_type": "code",
   "execution_count": 3,
   "metadata": {},
   "outputs": [],
   "source": [
    "def get_labels(path):\n",
    "    labels = os.listdir(path)\n",
    "    label_indices = np.arange(0, len(labels))    \n",
    "    return labels, label_indices, to_categorical(label_indices)\n",
    "\n",
    "\n",
    "\n"
   ]
  },
  {
   "cell_type": "code",
   "execution_count": 4,
   "metadata": {},
   "outputs": [],
   "source": [
    "\n",
    "\n",
    "def save_data_to_array(path, max_pad_len):\n",
    "    labels, _, _ = get_labels(path)\n",
    "\n",
    "    for label in labels:\n",
    "        # Init mfcc vectors\n",
    "        melspectrogram_vectors = []\n",
    "\n",
    "        wavfiles = [path + '/' + label + '/' + wavfile for wavfile in os.listdir(path + '/' + label)]\n",
    "        #wavfiles = librosa.util.find_files(db)\n",
    "        #print(wavfiles)\n",
    "        x=0\n",
    "        for wavfile in wavfiles:\n",
    "            name=label+'_'+str(x)\n",
    "            melspectrogram = wav2melspectrogram(wavfile, name, max_pad_len=max_pad_len)            \n",
    "            melspectrogram_vectors.append(melspectrogram)            \n",
    "            x=x+1\n",
    "        \n",
    "        #computing PCA and saving\n",
    "        \n",
    "        np.save(label + '.npy', melspectrogram_vectors)\n",
    "        #y=np.load(label + '.npy')\n",
    "        #y = sklearn.preprocessing.scale(y)\n",
    "        #y.mean()\n",
    "        #model = sklearn.decomposition.PCA(n_components=2, whiten=True)\n",
    "        #model.fit(y)\n",
    "        #y = model.transform(y)\n",
    "        #pd.DataFrame(y).to_csv(VALUE_PATH+'/'+label+'.csv')\n",
    "        \n",
    "        \n",
    "sample_x=[]\n",
    "\n",
    "def wav2melspectrogram(file_path, name, max_pad_len):\n",
    "    wave, sr = librosa.load(file_path)\n",
    "    x = librosa.feature.melspectrogram(wave, sr=sr)\n",
    "    pad_width = max_pad_len - x.shape[1]\n",
    "    x = np.pad(x, pad_width=((0, 0), (0, pad_width)), mode='constant')\n",
    "    #here the dimensions are getting reduced \n",
    "    #through PCA decompostion\n",
    "    x = reduce_dimension(x)\n",
    "    pd.DataFrame(x).to_csv(VALUE_PATH+'/'+name+'.csv')\n",
    "    return x"
   ]
  },
  {
   "cell_type": "markdown",
   "metadata": {},
   "source": [
    "# PCA decomposition\n",
    "Before I use data with reduced dimensionality, I would like to show what is this about.\n",
    "\n",
    "I arbitrary set number of components to 500. It depends on data, to do such visualization we should aim to set number of components close to the number of original feature number. Transformation take more time depending on number of components."
   ]
  },
  {
   "cell_type": "code",
   "execution_count": 5,
   "metadata": {},
   "outputs": [
    {
     "name": "stdout",
     "output_type": "stream",
     "text": [
      "(128, 22)\n"
     ]
    },
    {
     "data": {
      "text/plain": [
       "Text(0,0.5,'Cumulative explained variance')"
      ]
     },
     "execution_count": 5,
     "metadata": {},
     "output_type": "execute_result"
    },
    {
     "data": {
      "image/png": "[encoded data removed]",
      "text/plain": [
       "<Figure size 432x288 with 1 Axes>"
      ]
     },
     "metadata": {
      "needs_background": "light"
     },
     "output_type": "display_data"
    }
   ],
   "source": [
    "labels, indices, _ = get_labels(DATA_PATH)\n",
    "\n",
    "# Getting first arrays\n",
    "T = np.load(labels[0] + '.npy')\n",
    "# Getting first element of first array\n",
    "X = T[127]\n",
    "print(X.shape)\n",
    "scaler = StandardScaler()\n",
    "scaler.fit(X.T)\n",
    "X_sample = scaler.transform(X.T)\n",
    "#X_sc_test = scaler.transform(X_test)\n",
    "\n",
    "pca = PCA(n_components=128)\n",
    "pca.fit(X.T)\n",
    "\n",
    "plt.plot(np.cumsum(pca.explained_variance_ratio_))\n",
    "plt.xlabel('Number of components')\n",
    "plt.ylabel('Cumulative explained variance')"
   ]
  },
  {
   "cell_type": "markdown",
   "metadata": {},
   "source": [
    "In plot above we can see that cumulative explained variance is very high near 6 or 7 and then it increases very slowly. That means that data describing changes is mostly contained in 6 or 7 components. We need to evaluate trade-offs before we choose number of components we use further. I choose 6 to check how it will work as it seems to have most of the data.\n",
    "\n"
   ]
  },
  {
   "cell_type": "code",
   "execution_count": 6,
   "metadata": {},
   "outputs": [
    {
     "name": "stdout",
     "output_type": "stream",
     "text": [
      "(128, 22)\n",
      "(22, 128)\n",
      "(22, 6)\n"
     ]
    }
   ],
   "source": [
    "NCOMPONENTS = 6\n",
    "\n",
    "pca = PCA(n_components=NCOMPONENTS)\n",
    "X_pca = pca.fit_transform(X.T)\n",
    "\n",
    "print(X.shape)\n",
    "print(X_sample.shape)\n",
    "print(X_pca.shape)"
   ]
  },
  {
   "cell_type": "code",
   "execution_count": 7,
   "metadata": {},
   "outputs": [],
   "source": [
    "def reduce_dimension(X):\n",
    "    scaler = StandardScaler()\n",
    "    scaler.fit(X.T)\n",
    "    X_data = scaler.transform(X.T)\n",
    "    \n",
    "    pca = PCA(n_components=NCOMPONENTS)\n",
    "    X_pca = pca.fit_transform(X.T)\n",
    "    \n",
    "    return X_pca.T"
   ]
  },
  {
   "cell_type": "code",
   "execution_count": 8,
   "metadata": {},
   "outputs": [],
   "source": [
    "from sklearn.model_selection import train_test_split\n",
    "\n",
    "\n",
    "def get_train_test(split_ratio=0.8, random_state=42):\n",
    "    # Get available labels\n",
    "    labels, indices, _ = get_labels(DATA_PATH)\n",
    "\n",
    "    # Getting first arrays\n",
    "    X = np.load(labels[0] + '.npy')\n",
    "    # print(X.shape[0]) returns: 129\n",
    "    y = np.zeros(X.shape[0])\n",
    "\n",
    "    # Append all of the dataset into one single array, same goes for y\n",
    "    for i, label in enumerate(labels[1:]):\n",
    "        x = np.load(label + '.npy')\n",
    "        X = np.vstack((X, x))\n",
    "        #print(X.shape[0]) returns: 129+152=281\n",
    "        #print(i) returns: 0: So all y values are 1 for Seven and 0 for Tin\n",
    "        y = np.append(y, np.full(x.shape[0], fill_value= (i + 1)))\n",
    "\n",
    "    assert X.shape[0] == len(y)\n",
    "\n",
    "    return train_test_split(X, y, test_size= (1 - split_ratio), random_state=random_state, shuffle=True)\n",
    "\n"
   ]
  },
  {
   "cell_type": "code",
   "execution_count": 9,
   "metadata": {},
   "outputs": [],
   "source": [
    "\n",
    "\n",
    "#db = r'C:\\Users\\lenovo_pc\\Desktop\\CNN_SR\\SampleData'\n",
    "\n",
    "\n",
    "# Second dimension of the feature is dim2\n",
    "feature_dim_2 = 22\n",
    "\n",
    "# Save data to array file first\n",
    "save_data_to_array(DATA_PATH,feature_dim_2)\n",
    "\n",
    "# # Loading train set and test set\n",
    "X_train, X_test, y_train, y_test = get_train_test()\n",
    "\n",
    "# # Feature dimension\n",
    "feature_dim_1 = 128\n",
    "channel = 1\n",
    "epochs = 50\n",
    "batch_size = 100\n",
    "verbose = 1\n",
    "num_classes = 2\n",
    "\n",
    "\n",
    "y_train_hot = to_categorical(y_train)\n",
    "y_test_hot = to_categorical(y_test)"
   ]
  },
  {
   "cell_type": "code",
   "execution_count": 10,
   "metadata": {},
   "outputs": [
    {
     "name": "stdout",
     "output_type": "stream",
     "text": [
      "(224, 6, 22)\n",
      "(57, 6, 22)\n"
     ]
    }
   ],
   "source": [
    "\n",
    "#X_train = np.array(x_train)\n",
    "print(X_train.shape)\n",
    "print(X_test.shape)"
   ]
  },
  {
   "cell_type": "markdown",
   "metadata": {},
   "source": [
    "# *********++++++*********++++++*********++++++*********++++++"
   ]
  },
  {
   "cell_type": "code",
   "execution_count": 11,
   "metadata": {},
   "outputs": [],
   "source": [
    "from keras.models import Sequential\n",
    "from keras.layers import Dense, Dropout\n",
    "from keras.layers import Embedding\n",
    "from keras.layers import Conv1D, GlobalAveragePooling1D, MaxPooling1D"
   ]
  },
  {
   "cell_type": "code",
   "execution_count": 12,
   "metadata": {},
   "outputs": [],
   "source": [
    "seq_length = 128\n",
    "\n",
    "model = Sequential()\n",
    "model.add(Conv1D(64, 3, activation='relu', input_shape=(6,22)))\n",
    "model.add(Conv1D(64, 4, activation='relu'))\n",
    "model.add(Conv1D(64, 1, activation='relu'))\n",
    "model.add(Conv1D(64, 1, activation='relu'))\n",
    "model.add(MaxPooling1D(1))\n",
    "model.add(Conv1D(128, 1, activation='relu'))\n",
    "model.add(Conv1D(128, 1, activation='relu'))\n",
    "model.add(Conv1D(128, 1, activation='relu'))\n",
    "model.add(MaxPooling1D(1))\n",
    "model.add(Conv1D(256, 1, activation='relu'))\n",
    "model.add(Conv1D(256, 1, activation='relu'))\n",
    "model.add(GlobalAveragePooling1D())\n",
    "model.add(Dropout(0.5))\n",
    "model.add(Dense(2, activation='sigmoid'))"
   ]
  },
  {
   "cell_type": "code",
   "execution_count": 13,
   "metadata": {},
   "outputs": [],
   "source": [
    "model.compile(loss='binary_crossentropy',\n",
    "              optimizer='sgd',\n",
    "              metrics=['accuracy'])"
   ]
  },
  {
   "cell_type": "code",
   "execution_count": 14,
   "metadata": {},
   "outputs": [
    {
     "name": "stdout",
     "output_type": "stream",
     "text": [
      "Train on 224 samples, validate on 57 samples\n",
      "Epoch 1/10\n",
      "224/224 [==============================] - 1s 6ms/step - loss: 0.5966 - acc: 0.6049 - val_loss: 0.5267 - val_acc: 0.6228\n",
      "Epoch 2/10\n",
      "224/224 [==============================] - 0s 697us/step - loss: 0.4618 - acc: 0.7879 - val_loss: 0.3858 - val_acc: 0.9474\n",
      "Epoch 3/10\n",
      "224/224 [==============================] - 0s 773us/step - loss: 0.3230 - acc: 0.9286 - val_loss: 0.2550 - val_acc: 0.9561\n",
      "Epoch 4/10\n",
      "224/224 [==============================] - 0s 759us/step - loss: 0.1949 - acc: 0.9821 - val_loss: 0.1562 - val_acc: 0.9737\n",
      "Epoch 5/10\n",
      "224/224 [==============================] - 0s 858us/step - loss: 0.1439 - acc: 0.9844 - val_loss: 0.1496 - val_acc: 0.9825\n",
      "Epoch 6/10\n",
      "224/224 [==============================] - 0s 1ms/step - loss: 0.1154 - acc: 0.9911 - val_loss: 0.1355 - val_acc: 0.9825\n",
      "Epoch 7/10\n",
      "224/224 [==============================] - 0s 706us/step - loss: 0.1062 - acc: 0.9955 - val_loss: 0.0493 - val_acc: 1.0000\n",
      "Epoch 8/10\n",
      "224/224 [==============================] - 0s 706us/step - loss: 0.0686 - acc: 1.0000 - val_loss: 0.0397 - val_acc: 1.0000\n",
      "Epoch 9/10\n",
      "224/224 [==============================] - 0s 777us/step - loss: 0.0554 - acc: 1.0000 - val_loss: 0.0585 - val_acc: 0.9825\n",
      "Epoch 10/10\n",
      "224/224 [==============================] - 0s 1ms/step - loss: 0.0443 - acc: 1.0000 - val_loss: 0.0400 - val_acc: 0.9825\n"
     ]
    }
   ],
   "source": [
    "\n",
    "history = model.fit(X_train, y_train_hot, batch_size=7, epochs=10, validation_data=(X_test, y_test_hot))"
   ]
  },
  {
   "cell_type": "code",
   "execution_count": 15,
   "metadata": {},
   "outputs": [
    {
     "name": "stdout",
     "output_type": "stream",
     "text": [
      "model train data score       :  100.0 %\n",
      "model test data score        :  98.0 %\n"
     ]
    }
   ],
   "source": [
    "score = model.evaluate(X_train, y_train_hot, verbose=0) \n",
    "print (\"model train data score       : \",round(score[1]*100) , \"%\")\n",
    "\n",
    "score = model.evaluate(X_test, y_test_hot, verbose=0) \n",
    "print (\"model test data score        : \",round(score[1]*100) , \"%\")\n"
   ]
  },
  {
   "cell_type": "code",
   "execution_count": 16,
   "metadata": {},
   "outputs": [
    {
     "data": {
      "image/png": "[encoded data removed]",
      "text/plain": [
       "<Figure size 432x288 with 1 Axes>"
      ]
     },
     "metadata": {
      "needs_background": "light"
     },
     "output_type": "display_data"
    }
   ],
   "source": [
    "# summarize history for accuracy\n",
    "plt.plot(history.history['acc'])\n",
    "plt.plot(history.history['val_acc'])\n",
    "plt.title('model accuracy')\n",
    "plt.ylabel('accuracy')\n",
    "plt.xlabel('epoch')\n",
    "plt.legend(['train', 'test'], loc='upper left')\n",
    "plt.show()\n"
   ]
  },
  {
   "cell_type": "code",
   "execution_count": 17,
   "metadata": {},
   "outputs": [
    {
     "data": {
      "image/png": "[encoded data removed]",
      "text/plain": [
       "<Figure size 432x288 with 1 Axes>"
      ]
     },
     "metadata": {
      "needs_background": "light"
     },
     "output_type": "display_data"
    }
   ],
   "source": [
    "# summarize history for loss\n",
    "plt.plot(history.history['loss'])\n",
    "plt.plot(history.history['val_loss'])\n",
    "plt.title('model loss')\n",
    "plt.ylabel('loss')\n",
    "plt.xlabel('epoch')\n",
    "plt.legend(['train', 'test'], loc='upper left')\n",
    "plt.show()"
   ]
  },
  {
   "cell_type": "markdown",
   "metadata": {},
   "source": [
    "# *********++++++*********++++++*********++++++*********++++++"
   ]
  },
  {
   "cell_type": "code",
   "execution_count": 18,
   "metadata": {},
   "outputs": [],
   "source": [
    "seq_length = 128\n",
    "\n",
    "model = Sequential()\n",
    "model.add(Conv1D(64, 3, activation='relu', input_shape=(6,22)))\n",
    "model.add(Conv1D(64, 3, activation='relu'))\n",
    "model.add(MaxPooling1D(2))\n",
    "model.add(Conv1D(128, 1, activation='relu'))\n",
    "model.add(Conv1D(128, 1, activation='relu'))\n",
    "model.add(GlobalAveragePooling1D())\n",
    "model.add(Dropout(0.5))\n",
    "model.add(Dense(2, activation='sigmoid'))\n"
   ]
  },
  {
   "cell_type": "code",
   "execution_count": 19,
   "metadata": {},
   "outputs": [],
   "source": [
    "model.compile(loss='binary_crossentropy',\n",
    "              optimizer='rmsprop',\n",
    "              metrics=['accuracy'])"
   ]
  },
  {
   "cell_type": "code",
   "execution_count": 20,
   "metadata": {},
   "outputs": [
    {
     "name": "stdout",
     "output_type": "stream",
     "text": [
      "Train on 224 samples, validate on 57 samples\n",
      "Epoch 1/50\n",
      "224/224 [==============================] - 1s 5ms/step - loss: 1.3597 - acc: 0.6563 - val_loss: 0.3656 - val_acc: 0.8772\n",
      "Epoch 2/50\n",
      "224/224 [==============================] - 0s 112us/step - loss: 0.5186 - acc: 0.8549 - val_loss: 0.2042 - val_acc: 0.9649\n",
      "Epoch 3/50\n",
      "224/224 [==============================] - 0s 192us/step - loss: 0.3461 - acc: 0.9062 - val_loss: 0.1367 - val_acc: 0.9825\n",
      "Epoch 4/50\n",
      "224/224 [==============================] - 0s 112us/step - loss: 0.2932 - acc: 0.9219 - val_loss: 0.1035 - val_acc: 0.9912\n",
      "Epoch 5/50\n",
      "224/224 [==============================] - 0s 107us/step - loss: 0.2049 - acc: 0.9621 - val_loss: 0.0940 - val_acc: 0.9912\n",
      "Epoch 6/50\n",
      "224/224 [==============================] - 0s 116us/step - loss: 0.1539 - acc: 0.9643 - val_loss: 0.0875 - val_acc: 0.9912\n",
      "Epoch 7/50\n",
      "224/224 [==============================] - 0s 121us/step - loss: 0.1574 - acc: 0.9710 - val_loss: 0.0864 - val_acc: 0.9737\n",
      "Epoch 8/50\n",
      "224/224 [==============================] - 0s 112us/step - loss: 0.1313 - acc: 0.9844 - val_loss: 0.0659 - val_acc: 1.0000\n",
      "Epoch 9/50\n",
      "224/224 [==============================] - 0s 116us/step - loss: 0.1075 - acc: 0.9911 - val_loss: 0.0554 - val_acc: 1.0000\n",
      "Epoch 10/50\n",
      "224/224 [==============================] - 0s 183us/step - loss: 0.1058 - acc: 0.9866 - val_loss: 0.0526 - val_acc: 1.0000\n",
      "Epoch 11/50\n",
      "224/224 [==============================] - 0s 112us/step - loss: 0.0967 - acc: 0.9888 - val_loss: 0.0484 - val_acc: 0.9912\n",
      "Epoch 12/50\n",
      "224/224 [==============================] - 0s 107us/step - loss: 0.0709 - acc: 0.9978 - val_loss: 0.0362 - val_acc: 1.0000\n",
      "Epoch 13/50\n",
      "224/224 [==============================] - 0s 121us/step - loss: 0.0629 - acc: 0.9933 - val_loss: 0.0344 - val_acc: 1.0000\n",
      "Epoch 14/50\n",
      "224/224 [==============================] - 0s 116us/step - loss: 0.0520 - acc: 0.9955 - val_loss: 0.0271 - val_acc: 1.0000\n",
      "Epoch 15/50\n",
      "224/224 [==============================] - 0s 112us/step - loss: 0.0473 - acc: 0.9978 - val_loss: 0.0241 - val_acc: 1.0000\n",
      "Epoch 16/50\n",
      "224/224 [==============================] - 0s 125us/step - loss: 0.0429 - acc: 0.9978 - val_loss: 0.0159 - val_acc: 1.0000\n",
      "Epoch 17/50\n",
      "224/224 [==============================] - 0s 103us/step - loss: 0.0397 - acc: 1.0000 - val_loss: 0.0161 - val_acc: 1.0000\n",
      "Epoch 18/50\n",
      "224/224 [==============================] - 0s 112us/step - loss: 0.0707 - acc: 0.9911 - val_loss: 0.0158 - val_acc: 1.0000\n",
      "Epoch 19/50\n",
      "224/224 [==============================] - 0s 134us/step - loss: 0.0355 - acc: 1.0000 - val_loss: 0.0113 - val_acc: 1.0000\n",
      "Epoch 20/50\n",
      "224/224 [==============================] - 0s 116us/step - loss: 0.0301 - acc: 1.0000 - val_loss: 0.0085 - val_acc: 1.0000\n",
      "Epoch 21/50\n",
      "224/224 [==============================] - 0s 201us/step - loss: 0.0327 - acc: 0.9978 - val_loss: 0.0071 - val_acc: 1.0000\n",
      "Epoch 22/50\n",
      "224/224 [==============================] - 0s 103us/step - loss: 0.0310 - acc: 0.9978 - val_loss: 0.0069 - val_acc: 1.0000\n",
      "Epoch 23/50\n",
      "224/224 [==============================] - 0s 116us/step - loss: 0.0224 - acc: 1.0000 - val_loss: 0.0046 - val_acc: 1.0000\n",
      "Epoch 24/50\n",
      "224/224 [==============================] - 0s 134us/step - loss: 0.0179 - acc: 1.0000 - val_loss: 0.0033 - val_acc: 1.0000\n",
      "Epoch 25/50\n",
      "224/224 [==============================] - 0s 107us/step - loss: 0.0159 - acc: 1.0000 - val_loss: 0.0027 - val_acc: 1.0000\n",
      "Epoch 26/50\n",
      "224/224 [==============================] - 0s 107us/step - loss: 0.0122 - acc: 1.0000 - val_loss: 0.0019 - val_acc: 1.0000\n",
      "Epoch 27/50\n",
      "224/224 [==============================] - 0s 125us/step - loss: 0.0132 - acc: 0.9978 - val_loss: 0.0016 - val_acc: 1.0000\n",
      "Epoch 28/50\n",
      "224/224 [==============================] - 0s 112us/step - loss: 0.0101 - acc: 1.0000 - val_loss: 0.0033 - val_acc: 1.0000\n",
      "Epoch 29/50\n",
      "224/224 [==============================] - 0s 103us/step - loss: 0.0080 - acc: 1.0000 - val_loss: 8.4187e-04 - val_acc: 1.0000\n",
      "Epoch 30/50\n",
      "224/224 [==============================] - 0s 121us/step - loss: 0.0077 - acc: 1.0000 - val_loss: 6.8784e-04 - val_acc: 1.0000\n",
      "Epoch 31/50\n",
      "224/224 [==============================] - 0s 112us/step - loss: 0.0056 - acc: 1.0000 - val_loss: 4.6644e-04 - val_acc: 1.0000\n",
      "Epoch 32/50\n",
      "224/224 [==============================] - 0s 107us/step - loss: 0.0077 - acc: 1.0000 - val_loss: 3.0633e-04 - val_acc: 1.0000\n",
      "Epoch 33/50\n",
      "224/224 [==============================] - 0s 103us/step - loss: 0.0040 - acc: 1.0000 - val_loss: 2.2362e-04 - val_acc: 1.0000\n",
      "Epoch 34/50\n",
      "224/224 [==============================] - 0s 116us/step - loss: 0.0038 - acc: 1.0000 - val_loss: 7.1960e-04 - val_acc: 1.0000\n",
      "Epoch 35/50\n",
      "224/224 [==============================] - 0s 107us/step - loss: 0.0050 - acc: 1.0000 - val_loss: 3.7961e-04 - val_acc: 1.0000\n",
      "Epoch 36/50\n",
      "224/224 [==============================] - 0s 107us/step - loss: 0.0047 - acc: 1.0000 - val_loss: 1.6057e-04 - val_acc: 1.0000\n",
      "Epoch 37/50\n",
      "224/224 [==============================] - 0s 112us/step - loss: 0.0032 - acc: 1.0000 - val_loss: 1.1967e-04 - val_acc: 1.0000\n",
      "Epoch 38/50\n",
      "224/224 [==============================] - 0s 130us/step - loss: 0.0018 - acc: 1.0000 - val_loss: 7.6401e-05 - val_acc: 1.0000\n",
      "Epoch 39/50\n",
      "224/224 [==============================] - 0s 116us/step - loss: 0.0020 - acc: 1.0000 - val_loss: 7.7515e-05 - val_acc: 1.0000\n",
      "Epoch 40/50\n",
      "224/224 [==============================] - 0s 116us/step - loss: 0.0018 - acc: 1.0000 - val_loss: 4.2247e-05 - val_acc: 1.0000\n",
      "Epoch 41/50\n",
      "224/224 [==============================] - 0s 107us/step - loss: 0.0014 - acc: 1.0000 - val_loss: 3.0558e-05 - val_acc: 1.0000\n",
      "Epoch 42/50\n",
      "224/224 [==============================] - 0s 134us/step - loss: 7.6441e-04 - acc: 1.0000 - val_loss: 2.3116e-05 - val_acc: 1.0000\n",
      "Epoch 43/50\n",
      "224/224 [==============================] - 0s 116us/step - loss: 0.0012 - acc: 1.0000 - val_loss: 1.2179e-05 - val_acc: 1.0000\n",
      "Epoch 44/50\n",
      "224/224 [==============================] - 0s 116us/step - loss: 8.6633e-04 - acc: 1.0000 - val_loss: 8.8178e-06 - val_acc: 1.0000\n",
      "Epoch 45/50\n",
      "224/224 [==============================] - 0s 107us/step - loss: 0.0036 - acc: 0.9978 - val_loss: 7.6476e-04 - val_acc: 1.0000\n",
      "Epoch 46/50\n",
      "224/224 [==============================] - 0s 121us/step - loss: 0.2258 - acc: 0.9688 - val_loss: 2.0378e-05 - val_acc: 1.0000\n",
      "Epoch 47/50\n",
      "224/224 [==============================] - 0s 116us/step - loss: 9.9784e-04 - acc: 1.0000 - val_loss: 1.9876e-05 - val_acc: 1.0000\n",
      "Epoch 48/50\n",
      "224/224 [==============================] - 0s 116us/step - loss: 0.0014 - acc: 1.0000 - val_loss: 1.8709e-05 - val_acc: 1.0000\n",
      "Epoch 49/50\n",
      "224/224 [==============================] - 0s 130us/step - loss: 0.0013 - acc: 1.0000 - val_loss: 1.7640e-05 - val_acc: 1.0000\n",
      "Epoch 50/50\n",
      "224/224 [==============================] - 0s 112us/step - loss: 9.8998e-04 - acc: 1.0000 - val_loss: 1.7196e-05 - val_acc: 1.0000\n"
     ]
    }
   ],
   "source": [
    "#model.fit(x_train, y_train, batch_size=7, epochs=10)\n",
    "\n",
    "history = model.fit(X_train, y_train_hot, batch_size=batch_size, epochs=epochs, verbose=verbose, validation_data=(X_test, y_test_hot))"
   ]
  },
  {
   "cell_type": "code",
   "execution_count": 21,
   "metadata": {},
   "outputs": [
    {
     "name": "stdout",
     "output_type": "stream",
     "text": [
      "model train data score       :  100.0 %\n",
      "model test data score        :  100.0 %\n"
     ]
    }
   ],
   "source": [
    "score = model.evaluate(X_train, y_train_hot, verbose=0) \n",
    "print (\"model train data score       : \",round(score[1]*100) , \"%\")\n",
    "\n",
    "score = model.evaluate(X_test, y_test_hot, verbose=0) \n",
    "print (\"model test data score        : \",round(score[1]*100) , \"%\")\n"
   ]
  },
  {
   "cell_type": "code",
   "execution_count": 22,
   "metadata": {},
   "outputs": [
    {
     "data": {
      "image/png": "[encoded data removed]",
      "text/plain": [
       "<Figure size 432x288 with 1 Axes>"
      ]
     },
     "metadata": {
      "needs_background": "light"
     },
     "output_type": "display_data"
    }
   ],
   "source": [
    "# summarize history for accuracy\n",
    "plt.plot(history.history['acc'])\n",
    "plt.plot(history.history['val_acc'])\n",
    "plt.title('model accuracy')\n",
    "plt.ylabel('accuracy')\n",
    "plt.xlabel('epoch')\n",
    "plt.legend(['train', 'test'], loc='upper left')\n",
    "plt.show()"
   ]
  },
  {
   "cell_type": "code",
   "execution_count": 23,
   "metadata": {},
   "outputs": [
    {
     "data": {
      "image/png": "[encoded data removed]",
      "text/plain": [
       "<Figure size 432x288 with 1 Axes>"
      ]
     },
     "metadata": {
      "needs_background": "light"
     },
     "output_type": "display_data"
    }
   ],
   "source": [
    "# summarize history for loss\n",
    "plt.plot(history.history['loss'])\n",
    "plt.plot(history.history['val_loss'])\n",
    "plt.title('model loss')\n",
    "plt.ylabel('loss')\n",
    "plt.xlabel('epoch')\n",
    "plt.legend(['train', 'test'], loc='upper left')\n",
    "plt.show()"
   ]
  },
  {
   "cell_type": "markdown",
   "metadata": {},
   "source": [
    "# *********++++++*********++++++*********++++++*********++++++"
   ]
  },
  {
   "cell_type": "markdown",
   "metadata": {},
   "source": [
    "# RNN+LSTM"
   ]
  },
  {
   "cell_type": "code",
   "execution_count": 24,
   "metadata": {},
   "outputs": [],
   "source": [
    "import numpy as np\n",
    "from keras.models import Sequential\n",
    "from keras.layers import Dense, Dropout, Activation, Flatten, LSTM\n",
    "from keras.layers import Convolution2D, MaxPooling2D\n",
    "from keras.optimizers import Adam\n",
    "from keras.callbacks import EarlyStopping,ReduceLROnPlateau,ModelCheckpoint,TensorBoard,ProgbarLogger\n",
    "from keras.utils import np_utils\n",
    "from sklearn import metrics \n",
    "from sklearn.metrics import confusion_matrix, classification_report, accuracy_score\n",
    "from sklearn.preprocessing import LabelEncoder\n",
    "import itertools"
   ]
  },
  {
   "cell_type": "code",
   "execution_count": 25,
   "metadata": {},
   "outputs": [
    {
     "name": "stdout",
     "output_type": "stream",
     "text": [
      "Build LSTM RNN model ...\n",
      "_________________________________________________________________\n",
      "Layer (type)                 Output Shape              Param #   \n",
      "=================================================================\n",
      "lstm_1 (LSTM)                (None, 6, 64)             22272     \n",
      "_________________________________________________________________\n",
      "lstm_2 (LSTM)                (None, 32)                12416     \n",
      "_________________________________________________________________\n",
      "dense_3 (Dense)              (None, 2)                 66        \n",
      "=================================================================\n",
      "Total params: 34,754\n",
      "Trainable params: 34,754\n",
      "Non-trainable params: 0\n",
      "_________________________________________________________________\n"
     ]
    }
   ],
   "source": [
    "print('Build LSTM RNN model ...')\n",
    "model = Sequential()\n",
    "model.add(LSTM(units=64, dropout=0.05, recurrent_dropout=0.20, return_sequences=True,input_shape = (6,22)))\n",
    "model.add(LSTM(units=32, dropout=0.05, recurrent_dropout=0.20, return_sequences=False))\n",
    "model.add(Dense(2, activation='softmax'))\n",
    "model.compile(loss='categorical_crossentropy', optimizer='Adamax', metrics=['acc','mse', 'mae', 'mape', 'cosine'])\n",
    "model.summary()"
   ]
  },
  {
   "cell_type": "code",
   "execution_count": 26,
   "metadata": {},
   "outputs": [
    {
     "name": "stdout",
     "output_type": "stream",
     "text": [
      "training started..... please wait.\n",
      "\n",
      "Epoch 00001: loss improved from inf to 0.53754, saving model to ./best_model_trained.hdf5\n",
      "\n",
      "Epoch 00002: loss improved from 0.53754 to 0.25941, saving model to ./best_model_trained.hdf5\n",
      "\n",
      "Epoch 00003: loss improved from 0.25941 to 0.10365, saving model to ./best_model_trained.hdf5\n",
      "\n",
      "Epoch 00004: loss improved from 0.10365 to 0.03771, saving model to ./best_model_trained.hdf5\n",
      "\n",
      "Epoch 00005: loss improved from 0.03771 to 0.03344, saving model to ./best_model_trained.hdf5\n",
      "\n",
      "Epoch 00006: loss improved from 0.03344 to 0.02136, saving model to ./best_model_trained.hdf5\n",
      "\n",
      "Epoch 00007: loss did not improve from 0.02136\n",
      "\n",
      "Epoch 00008: loss improved from 0.02136 to 0.00916, saving model to ./best_model_trained.hdf5\n",
      "\n",
      "Epoch 00009: loss improved from 0.00916 to 0.00580, saving model to ./best_model_trained.hdf5\n",
      "\n",
      "Epoch 00010: loss did not improve from 0.00580\n",
      "\n",
      "Epoch 00011: loss did not improve from 0.00580\n",
      "\n",
      "Epoch 00012: loss did not improve from 0.00580\n",
      "\n",
      "Epoch 00013: loss improved from 0.00580 to 0.00398, saving model to ./best_model_trained.hdf5\n",
      "\n",
      "Epoch 00014: loss did not improve from 0.00398\n",
      "\n",
      "Epoch 00015: loss improved from 0.00398 to 0.00248, saving model to ./best_model_trained.hdf5\n",
      "\n",
      "Epoch 00016: loss did not improve from 0.00248\n",
      "\n",
      "Epoch 00017: loss did not improve from 0.00248\n",
      "\n",
      "Epoch 00018: loss did not improve from 0.00248\n",
      "\n",
      "Epoch 00019: loss did not improve from 0.00248\n",
      "\n",
      "Epoch 00020: loss improved from 0.00248 to 0.00231, saving model to ./best_model_trained.hdf5\n",
      "\n",
      "Epoch 00021: loss improved from 0.00231 to 0.00189, saving model to ./best_model_trained.hdf5\n",
      "\n",
      "Epoch 00022: loss did not improve from 0.00189\n",
      "\n",
      "Epoch 00023: loss improved from 0.00189 to 0.00126, saving model to ./best_model_trained.hdf5\n",
      "\n",
      "Epoch 00024: loss did not improve from 0.00126\n",
      "\n",
      "Epoch 00025: loss did not improve from 0.00126\n",
      "\n",
      "Epoch 00026: loss did not improve from 0.00126\n",
      "\n",
      "Epoch 00027: loss did not improve from 0.00126\n",
      "\n",
      "Epoch 00028: loss improved from 0.00126 to 0.00116, saving model to ./best_model_trained.hdf5\n",
      "\n",
      "Epoch 00029: loss did not improve from 0.00116\n",
      "\n",
      "Epoch 00030: loss improved from 0.00116 to 0.00107, saving model to ./best_model_trained.hdf5\n",
      "\n",
      "Epoch 00031: loss improved from 0.00107 to 0.00063, saving model to ./best_model_trained.hdf5\n",
      "\n",
      "Epoch 00032: loss did not improve from 0.00063\n",
      "\n",
      "Epoch 00033: loss did not improve from 0.00063\n",
      "\n",
      "Epoch 00034: loss did not improve from 0.00063\n",
      "\n",
      "Epoch 00035: loss did not improve from 0.00063\n",
      "\n",
      "Epoch 00036: loss did not improve from 0.00063\n",
      "\n",
      "Epoch 00037: loss did not improve from 0.00063\n",
      "\n",
      "Epoch 00038: loss did not improve from 0.00063\n",
      "\n",
      "Epoch 00039: loss did not improve from 0.00063\n",
      "\n",
      "Epoch 00040: loss did not improve from 0.00063\n",
      "\n",
      "Epoch 00041: loss improved from 0.00063 to 0.00045, saving model to ./best_model_trained.hdf5\n",
      "\n",
      "Epoch 00042: loss did not improve from 0.00045\n",
      "\n",
      "Epoch 00043: loss did not improve from 0.00045\n",
      "\n",
      "Epoch 00044: loss improved from 0.00045 to 0.00039, saving model to ./best_model_trained.hdf5\n",
      "\n",
      "Epoch 00045: loss did not improve from 0.00039\n",
      "\n",
      "Epoch 00046: loss improved from 0.00039 to 0.00036, saving model to ./best_model_trained.hdf5\n",
      "\n",
      "Epoch 00047: loss did not improve from 0.00036\n",
      "\n",
      "Epoch 00048: loss improved from 0.00036 to 0.00033, saving model to ./best_model_trained.hdf5\n",
      "\n",
      "Epoch 00049: loss did not improve from 0.00033\n",
      "\n",
      "Epoch 00050: loss did not improve from 0.00033\n",
      "training finised!\n",
      "Wall time: 31.6 s\n"
     ]
    }
   ],
   "source": [
    "%%time\n",
    "# saved model checkpoint file\n",
    "best_model_file=\"./best_model_trained.hdf5\"\n",
    "#train_model_file=file_path+\"/checkpoints/weights.best_{epoch:02d}-{loss:.2f}.hdf5\"\n",
    "MAX_PATIENT=12\n",
    "MAX_EPOCHS=50\n",
    "MAX_BATCH=7\n",
    "\n",
    "# callbacks\n",
    "# removed EarlyStopping(patience=MAX_PATIENT)\n",
    "callback=[ReduceLROnPlateau(patience=MAX_PATIENT, verbose=1),\n",
    "          ModelCheckpoint(filepath=best_model_file, monitor='loss', verbose=1, save_best_only=True)]\n",
    "\n",
    "print (\"training started..... please wait.\")\n",
    "# training\n",
    "history=model.fit(X_train, y_train_hot, \n",
    "                  batch_size=MAX_BATCH, \n",
    "                  epochs=MAX_EPOCHS,\n",
    "                  verbose=0,\n",
    "                  validation_data=(X_test, y_test_hot),\n",
    "                  callbacks=callback) \n",
    "\n",
    "print (\"training finised!\")\n",
    "\n"
   ]
  },
  {
   "cell_type": "code",
   "execution_count": 27,
   "metadata": {},
   "outputs": [
    {
     "name": "stdout",
     "output_type": "stream",
     "text": [
      "model train data score       :  100.0 %\n",
      "model test data score        :  100.0 %\n"
     ]
    }
   ],
   "source": [
    "score = model.evaluate(X_train, y_train_hot, verbose=0) \n",
    "print (\"model train data score       : \",round(score[1]*100) , \"%\")\n",
    "\n",
    "score = model.evaluate(X_test, y_test_hot, verbose=0) \n",
    "print (\"model test data score        : \",round(score[1]*100) , \"%\")"
   ]
  },
  {
   "cell_type": "code",
   "execution_count": 28,
   "metadata": {},
   "outputs": [
    {
     "data": {
      "image/png": "[encoded data removed]",
      "text/plain": [
       "<Figure size 432x288 with 1 Axes>"
      ]
     },
     "metadata": {
      "needs_background": "light"
     },
     "output_type": "display_data"
    }
   ],
   "source": [
    "# summarize history for accuracy\n",
    "plt.plot(history.history['acc'])\n",
    "plt.plot(history.history['val_acc'])\n",
    "plt.title('model accuracy')\n",
    "plt.ylabel('accuracy')\n",
    "plt.xlabel('epoch')\n",
    "plt.legend(['train', 'test'], loc='upper left')\n",
    "plt.show()"
   ]
  },
  {
   "cell_type": "code",
   "execution_count": 29,
   "metadata": {},
   "outputs": [
    {
     "data": {
      "image/png": "[encoded data removed]",
      "text/plain": [
       "<Figure size 432x288 with 1 Axes>"
      ]
     },
     "metadata": {
      "needs_background": "light"
     },
     "output_type": "display_data"
    }
   ],
   "source": [
    "# summarize history for loss\n",
    "plt.plot(history.history['loss'])\n",
    "plt.plot(history.history['val_loss'])\n",
    "plt.title('model loss')\n",
    "plt.ylabel('loss')\n",
    "plt.xlabel('epoch')\n",
    "plt.legend(['train', 'test'], loc='upper left')\n",
    "plt.show()"
   ]
  },
  {
   "cell_type": "code",
   "execution_count": null,
   "metadata": {},
   "outputs": [],
   "source": []
  },
  {
   "cell_type": "code",
   "execution_count": null,
   "metadata": {},
   "outputs": [],
   "source": []
  }
 ],
 "metadata": {
  "kernelspec": {
   "display_name": "Python 3",
   "language": "python",
   "name": "python3"
  },
  "language_info": {
   "codemirror_mode": {
    "name": "ipython",
    "version": 3
   },
   "file_extension": ".py",
   "mimetype": "text/x-python",
   "name": "python",
   "nbconvert_exporter": "python",
   "pygments_lexer": "ipython3",
   "version": "3.6.4"
  }
 },
 "nbformat": 4,
 "nbformat_minor": 2
}
