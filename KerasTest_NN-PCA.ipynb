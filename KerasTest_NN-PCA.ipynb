{
 "cells": [
  {
   "cell_type": "code",
   "execution_count": 1,
   "metadata": {},
   "outputs": [
    {
     "name": "stderr",
     "output_type": "stream",
     "text": [
      "C:\\Users\\lenovo_pc\\Anaconda3\\lib\\site-packages\\h5py\\__init__.py:36: FutureWarning: Conversion of the second argument of issubdtype from `float` to `np.floating` is deprecated. In future, it will be treated as `np.float64 == np.dtype(float).type`.\n",
      "  from ._conv import register_converters as _register_converters\n",
      "Using TensorFlow backend.\n"
     ]
    }
   ],
   "source": [
    "import keras\n",
    "import os\n",
    "import librosa\n",
    "\n",
    "\n",
    "import numpy as np\n",
    "import pandas as pd\n",
    "\n",
    "from sklearn.preprocessing import StandardScaler\n",
    "from sklearn.decomposition import PCA\n",
    "\n",
    "from keras.models import Sequential\n",
    "from keras.utils import np_utils\n",
    "from keras.utils import to_categorical\n",
    "from keras.layers import Dense, Dropout, GaussianNoise, Conv1D\n",
    "from keras.preprocessing.image import ImageDataGenerator\n",
    "\n",
    "import matplotlib.pyplot as plt\n",
    "import seaborn as sns\n",
    "%matplotlib inline"
   ]
  },
  {
   "cell_type": "code",
   "execution_count": 2,
   "metadata": {},
   "outputs": [],
   "source": [
    "def get_labels(path):\n",
    "    labels = os.listdir(path)\n",
    "    label_indices = np.arange(0, len(labels))    \n",
    "    return labels, label_indices, to_categorical(label_indices)\n",
    "\n",
    "\n",
    "\n"
   ]
  },
  {
   "cell_type": "code",
   "execution_count": 3,
   "metadata": {},
   "outputs": [],
   "source": [
    "from sklearn.model_selection import train_test_split\n",
    "\n",
    "\n",
    "def get_train_test(split_ratio=0.8, random_state=42):\n",
    "    # Get available labels\n",
    "    labels, indices, _ = get_labels(DATA_PATH)\n",
    "\n",
    "    # Getting first arrays\n",
    "    X = np.load(labels[0] + '.npy')\n",
    "    y = np.zeros(X.shape[0])\n",
    "\n",
    "    # Append all of the dataset into one single array, same goes for y\n",
    "    for i, label in enumerate(labels[1:]):\n",
    "        x = np.load(label + '.npy')\n",
    "        X = np.vstack((X, x))\n",
    "        y = np.append(y, np.full(x.shape[0], fill_value= (i + 1)))\n",
    "\n",
    "    assert X.shape[0] == len(y)\n",
    "\n",
    "    return train_test_split(X, y, test_size= (1 - split_ratio), random_state=random_state, shuffle=True)\n",
    "\n",
    "\n",
    "\n",
    "def save_data_to_array(path, max_pad_len):\n",
    "    labels, _, _ = get_labels(path)\n",
    "\n",
    "    for label in labels:\n",
    "        # Init mfcc vectors\n",
    "        melspectrogram_vectors = []\n",
    "\n",
    "        wavfiles = [path + '/' + label + '/' + wavfile for wavfile in os.listdir(path + '/' + label)]\n",
    "        #wavfiles = librosa.util.find_files(db)\n",
    "        #print(wavfiles)\n",
    "        x=0\n",
    "        for wavfile in wavfiles:\n",
    "            name=label+'_'+str(x)\n",
    "            melspectrogram = wav2melspectrogram(wavfile, name, max_pad_len=max_pad_len)            \n",
    "            melspectrogram_vectors.append(melspectrogram)            \n",
    "            x=x+1\n",
    "        \n",
    "        #computing PCA and saving\n",
    "        \n",
    "        np.save(label + '.npy', melspectrogram_vectors)\n",
    "        #y=np.load(label + '.npy')\n",
    "        #y = sklearn.preprocessing.scale(y)\n",
    "        #y.mean()\n",
    "        #model = sklearn.decomposition.PCA(n_components=2, whiten=True)\n",
    "        #model.fit(y)\n",
    "        #y = model.transform(y)\n",
    "        #pd.DataFrame(y).to_csv(VALUE_PATH+'/'+label+'.csv')\n",
    "        \n",
    "        \n",
    "\n",
    "\n",
    "def wav2melspectrogram(file_path, name, max_pad_len):\n",
    "    wave, sr = librosa.load(file_path)\n",
    "    x = librosa.feature.melspectrogram(wave, sr=sr)\n",
    "    pad_width = max_pad_len - x.shape[1]\n",
    "    x = np.pad(x, pad_width=((0, 0), (0, pad_width)), mode='constant')\n",
    "    x = x.flatten()\n",
    "    pd.DataFrame(x).to_csv(VALUE_PATH+'/'+name+'.csv')\n",
    "    return x"
   ]
  },
  {
   "cell_type": "code",
   "execution_count": 4,
   "metadata": {},
   "outputs": [],
   "source": [
    "DATA_PATH = r'C:\\Users\\lenovo_pc\\Desktop\\CNN_SR\\Dataset-v2'\n",
    "VALUE_PATH = r'C:\\Users\\lenovo_pc\\Desktop\\CNN_SR\\flattened_matrix'\n",
    "\n",
    "\n",
    "#db = r'C:\\Users\\lenovo_pc\\Desktop\\CNN_SR\\SampleData'\n",
    "\n",
    "\n",
    "# Second dimension of the feature is dim2\n",
    "feature_dim_2 = 22\n",
    "\n",
    "# Save data to array file first\n",
    "save_data_to_array(DATA_PATH,feature_dim_2)\n",
    "\n",
    "# # Loading train set and test set\n",
    "X_train, X_test, y_train, y_test = get_train_test()\n",
    "\n",
    "# # Feature dimension\n",
    "feature_dim_1 = 128\n",
    "channel = 1\n",
    "epochs = 50\n",
    "batch_size = 100\n",
    "verbose = 1\n",
    "num_classes = 2\n",
    "\n",
    "\n",
    "y_train_hot = to_categorical(y_train)\n",
    "y_test_hot = to_categorical(y_test)"
   ]
  },
  {
   "cell_type": "code",
   "execution_count": 4,
   "metadata": {},
   "outputs": [
    {
     "ename": "NameError",
     "evalue": "name 'StandardScaler' is not defined",
     "output_type": "error",
     "traceback": [
      "\u001b[1;31m---------------------------------------------------------------------------\u001b[0m",
      "\u001b[1;31mNameError\u001b[0m                                 Traceback (most recent call last)",
      "\u001b[1;32m<ipython-input-4-272e577ba5c5>\u001b[0m in \u001b[0;36m<module>\u001b[1;34m()\u001b[0m\n\u001b[1;32m----> 1\u001b[1;33m \u001b[0mscaler\u001b[0m \u001b[1;33m=\u001b[0m \u001b[0mStandardScaler\u001b[0m\u001b[1;33m(\u001b[0m\u001b[1;33m)\u001b[0m\u001b[1;33m\u001b[0m\u001b[0m\n\u001b[0m\u001b[0;32m      2\u001b[0m \u001b[0mscaler\u001b[0m\u001b[1;33m.\u001b[0m\u001b[0mfit\u001b[0m\u001b[1;33m(\u001b[0m\u001b[0mX_train\u001b[0m\u001b[1;33m)\u001b[0m\u001b[1;33m\u001b[0m\u001b[0m\n\u001b[0;32m      3\u001b[0m \u001b[0mX_sc_train\u001b[0m \u001b[1;33m=\u001b[0m \u001b[0mscaler\u001b[0m\u001b[1;33m.\u001b[0m\u001b[0mtransform\u001b[0m\u001b[1;33m(\u001b[0m\u001b[0mX_train\u001b[0m\u001b[1;33m)\u001b[0m\u001b[1;33m\u001b[0m\u001b[0m\n\u001b[0;32m      4\u001b[0m \u001b[0mX_sc_test\u001b[0m \u001b[1;33m=\u001b[0m \u001b[0mscaler\u001b[0m\u001b[1;33m.\u001b[0m\u001b[0mtransform\u001b[0m\u001b[1;33m(\u001b[0m\u001b[0mX_test\u001b[0m\u001b[1;33m)\u001b[0m\u001b[1;33m\u001b[0m\u001b[0m\n",
      "\u001b[1;31mNameError\u001b[0m: name 'StandardScaler' is not defined"
     ]
    }
   ],
   "source": [
    "scaler = StandardScaler()\n",
    "scaler.fit(X_train)\n",
    "X_sc_train = scaler.transform(X_train)\n",
    "X_sc_test = scaler.transform(X_test)"
   ]
  },
  {
   "cell_type": "code",
   "execution_count": 6,
   "metadata": {},
   "outputs": [
    {
     "data": {
      "text/plain": [
       "Text(0,0.5,'Cumulative explained variance')"
      ]
     },
     "execution_count": 6,
     "metadata": {},
     "output_type": "execute_result"
    },
    {
     "data": {
      "image/png": "[encoded data removed]",
      "text/plain": [
       "<Figure size 432x288 with 1 Axes>"
      ]
     },
     "metadata": {
      "needs_background": "light"
     },
     "output_type": "display_data"
    }
   ],
   "source": [
    "pca = PCA(n_components=500)\n",
    "pca.fit(X_train)\n",
    "\n",
    "plt.plot(np.cumsum(pca.explained_variance_ratio_))\n",
    "plt.xlabel('Number of components')\n",
    "plt.ylabel('Cumulative explained variance')"
   ]
  },
  {
   "cell_type": "code",
   "execution_count": 9,
   "metadata": {},
   "outputs": [
    {
     "name": "stdout",
     "output_type": "stream",
     "text": [
      "(224, 2816)\n",
      "(224, 50)\n",
      "(57, 50)\n"
     ]
    }
   ],
   "source": [
    "NCOMPONENTS = 50\n",
    "\n",
    "pca = PCA(n_components=NCOMPONENTS)\n",
    "X_pca_train = pca.fit_transform(X_sc_train)\n",
    "X_pca_test = pca.transform(X_sc_test)\n",
    "pca_std = np.std(X_pca_train)\n",
    "\n",
    "print(X_sc_train.shape)\n",
    "print(X_pca_train.shape)\n",
    "print(X_pca_test.shape)"
   ]
  },
  {
   "cell_type": "code",
   "execution_count": 10,
   "metadata": {},
   "outputs": [],
   "source": [
    "from keras.models import Sequential\n",
    "from keras.layers import Dense, Dropout\n",
    "from keras.layers import Embedding\n",
    "from keras.layers import Conv1D, GlobalAveragePooling1D, MaxPooling1D"
   ]
  },
  {
   "cell_type": "code",
   "execution_count": 33,
   "metadata": {},
   "outputs": [
    {
     "name": "stdout",
     "output_type": "stream",
     "text": [
      "Train on 190 samples, validate on 34 samples\n",
      "Epoch 1/100\n",
      "190/190 [==============================] - 1s 5ms/step - loss: 5.2021 - acc: 0.5421 - val_loss: 0.7253 - val_acc: 0.8529\n",
      "Epoch 2/100\n",
      "190/190 [==============================] - 0s 337us/step - loss: 4.7945 - acc: 0.5474 - val_loss: 0.1750 - val_acc: 0.8824\n",
      "Epoch 3/100\n",
      "190/190 [==============================] - 0s 358us/step - loss: 4.0007 - acc: 0.5895 - val_loss: 0.3960 - val_acc: 0.9118\n",
      "Epoch 4/100\n",
      "190/190 [==============================] - 0s 379us/step - loss: 2.4539 - acc: 0.7105 - val_loss: 0.2348 - val_acc: 0.9706\n",
      "Epoch 5/100\n",
      "190/190 [==============================] - 0s 400us/step - loss: 2.8541 - acc: 0.7158 - val_loss: 0.1396 - val_acc: 0.9706\n",
      "Epoch 6/100\n",
      "190/190 [==============================] - 0s 400us/step - loss: 2.5235 - acc: 0.7316 - val_loss: 0.1639 - val_acc: 0.9706\n",
      "Epoch 7/100\n",
      "190/190 [==============================] - 0s 379us/step - loss: 2.1749 - acc: 0.7632 - val_loss: 0.1020 - val_acc: 0.9706\n",
      "Epoch 8/100\n",
      "190/190 [==============================] - 0s 400us/step - loss: 1.7075 - acc: 0.7947 - val_loss: 0.1617 - val_acc: 0.9706\n",
      "Epoch 9/100\n",
      "190/190 [==============================] - 0s 379us/step - loss: 1.5604 - acc: 0.8263 - val_loss: 0.0071 - val_acc: 1.0000\n",
      "Epoch 10/100\n",
      "190/190 [==============================] - 0s 379us/step - loss: 1.1367 - acc: 0.8737 - val_loss: 0.1333 - val_acc: 0.9706\n",
      "Epoch 11/100\n",
      "190/190 [==============================] - 0s 379us/step - loss: 1.3271 - acc: 0.8684 - val_loss: 0.0592 - val_acc: 0.9706\n",
      "Epoch 12/100\n",
      "190/190 [==============================] - 0s 358us/step - loss: 0.8516 - acc: 0.9000 - val_loss: 0.0297 - val_acc: 0.9706\n",
      "Epoch 13/100\n",
      "190/190 [==============================] - 0s 400us/step - loss: 1.0374 - acc: 0.8947 - val_loss: 0.1802 - val_acc: 0.9706\n",
      "Epoch 14/100\n",
      "190/190 [==============================] - 0s 379us/step - loss: 0.8505 - acc: 0.9105 - val_loss: 0.1688 - val_acc: 0.9706\n",
      "Epoch 15/100\n",
      "190/190 [==============================] - 0s 379us/step - loss: 0.6402 - acc: 0.9316 - val_loss: 0.0841 - val_acc: 0.9706\n",
      "Epoch 16/100\n",
      "190/190 [==============================] - 0s 400us/step - loss: 0.8649 - acc: 0.9211 - val_loss: 0.1211 - val_acc: 0.9706\n",
      "Epoch 17/100\n",
      "190/190 [==============================] - 0s 379us/step - loss: 0.7508 - acc: 0.9263 - val_loss: 0.1108 - val_acc: 0.9706\n",
      "Epoch 18/100\n",
      "190/190 [==============================] - 0s 379us/step - loss: 0.6990 - acc: 0.8947 - val_loss: 0.2206 - val_acc: 0.9706\n",
      "Epoch 19/100\n",
      "190/190 [==============================] - 0s 358us/step - loss: 0.6564 - acc: 0.9211 - val_loss: 0.1730 - val_acc: 0.9706\n",
      "Epoch 20/100\n",
      "190/190 [==============================] - 0s 358us/step - loss: 0.4479 - acc: 0.9368 - val_loss: 0.1345 - val_acc: 0.9706\n",
      "Epoch 21/100\n",
      "190/190 [==============================] - 0s 379us/step - loss: 0.5047 - acc: 0.9368 - val_loss: 0.0239 - val_acc: 0.9706\n",
      "Epoch 22/100\n",
      "190/190 [==============================] - 0s 337us/step - loss: 0.4745 - acc: 0.9316 - val_loss: 0.0377 - val_acc: 0.9706\n",
      "Epoch 23/100\n",
      "190/190 [==============================] - 0s 358us/step - loss: 0.5978 - acc: 0.9421 - val_loss: 0.0161 - val_acc: 1.0000\n",
      "Epoch 24/100\n",
      "190/190 [==============================] - 0s 358us/step - loss: 0.6654 - acc: 0.9474 - val_loss: 0.0491 - val_acc: 0.9706\n",
      "Epoch 25/100\n",
      "190/190 [==============================] - 0s 358us/step - loss: 0.4968 - acc: 0.9526 - val_loss: 0.0710 - val_acc: 0.9706\n",
      "Epoch 26/100\n",
      "190/190 [==============================] - 0s 358us/step - loss: 0.6055 - acc: 0.9263 - val_loss: 0.3629 - val_acc: 0.9706\n",
      "Epoch 27/100\n",
      "190/190 [==============================] - 0s 358us/step - loss: 0.2615 - acc: 0.9579 - val_loss: 0.4670 - val_acc: 0.9706\n",
      "Epoch 28/100\n",
      "190/190 [==============================] - 0s 337us/step - loss: 0.3669 - acc: 0.9526 - val_loss: 0.4741 - val_acc: 0.9706\n",
      "Epoch 29/100\n",
      "190/190 [==============================] - 0s 337us/step - loss: 0.1829 - acc: 0.9842 - val_loss: 0.4741 - val_acc: 0.9706\n",
      "Epoch 30/100\n",
      "190/190 [==============================] - 0s 358us/step - loss: 0.6582 - acc: 0.9368 - val_loss: 0.4741 - val_acc: 0.9706\n",
      "Epoch 31/100\n",
      "190/190 [==============================] - 0s 358us/step - loss: 0.3713 - acc: 0.9684 - val_loss: 0.4741 - val_acc: 0.9706\n",
      "Epoch 32/100\n",
      "190/190 [==============================] - 0s 358us/step - loss: 0.3352 - acc: 0.9526 - val_loss: 0.4741 - val_acc: 0.9706\n",
      "Epoch 33/100\n",
      "190/190 [==============================] - 0s 358us/step - loss: 0.2765 - acc: 0.9684 - val_loss: 0.4741 - val_acc: 0.9706\n",
      "Epoch 34/100\n",
      "190/190 [==============================] - 0s 379us/step - loss: 0.3634 - acc: 0.9579 - val_loss: 0.4437 - val_acc: 0.9706\n",
      "Epoch 35/100\n",
      "190/190 [==============================] - 0s 358us/step - loss: 0.1769 - acc: 0.9737 - val_loss: 0.4087 - val_acc: 0.9706\n",
      "Epoch 36/100\n",
      "190/190 [==============================] - 0s 337us/step - loss: 0.1190 - acc: 0.9789 - val_loss: 0.4331 - val_acc: 0.9706\n",
      "Epoch 37/100\n",
      "190/190 [==============================] - 0s 337us/step - loss: 0.2320 - acc: 0.9737 - val_loss: 0.2885 - val_acc: 0.9706\n",
      "Epoch 38/100\n",
      "190/190 [==============================] - 0s 358us/step - loss: 0.2548 - acc: 0.9737 - val_loss: 0.2838 - val_acc: 0.9706\n",
      "Epoch 39/100\n",
      "190/190 [==============================] - 0s 337us/step - loss: 0.2102 - acc: 0.9684 - val_loss: 0.3734 - val_acc: 0.9706\n",
      "Epoch 40/100\n",
      "190/190 [==============================] - 0s 337us/step - loss: 0.2383 - acc: 0.9632 - val_loss: 0.3162 - val_acc: 0.9706\n",
      "Epoch 41/100\n",
      "190/190 [==============================] - 0s 337us/step - loss: 0.3196 - acc: 0.9684 - val_loss: 0.2958 - val_acc: 0.9706\n",
      "Epoch 42/100\n",
      "190/190 [==============================] - 0s 358us/step - loss: 0.3112 - acc: 0.9684 - val_loss: 0.3706 - val_acc: 0.9706\n",
      "Epoch 43/100\n",
      "190/190 [==============================] - 0s 358us/step - loss: 0.2820 - acc: 0.9684 - val_loss: 0.4206 - val_acc: 0.9706\n",
      "Epoch 44/100\n",
      "190/190 [==============================] - 0s 358us/step - loss: 0.2046 - acc: 0.9789 - val_loss: 0.3331 - val_acc: 0.9706\n",
      "Epoch 45/100\n",
      "190/190 [==============================] - 0s 358us/step - loss: 0.3221 - acc: 0.9632 - val_loss: 0.3803 - val_acc: 0.9706\n",
      "Epoch 46/100\n",
      "190/190 [==============================] - 0s 337us/step - loss: 0.2409 - acc: 0.9684 - val_loss: 0.4741 - val_acc: 0.9706\n",
      "Epoch 47/100\n",
      "190/190 [==============================] - 0s 358us/step - loss: 0.1986 - acc: 0.9842 - val_loss: 0.4741 - val_acc: 0.9706\n",
      "Epoch 48/100\n",
      "190/190 [==============================] - 0s 358us/step - loss: 0.4554 - acc: 0.9632 - val_loss: 0.4741 - val_acc: 0.9706\n",
      "Epoch 49/100\n",
      "190/190 [==============================] - 0s 358us/step - loss: 0.2534 - acc: 0.9789 - val_loss: 0.4741 - val_acc: 0.9706\n",
      "Epoch 50/100\n",
      "190/190 [==============================] - 0s 358us/step - loss: 0.0425 - acc: 0.9947 - val_loss: 0.4741 - val_acc: 0.9706\n",
      "Epoch 51/100\n",
      "190/190 [==============================] - 0s 358us/step - loss: 0.2916 - acc: 0.9737 - val_loss: 0.4741 - val_acc: 0.9706\n",
      "Epoch 52/100\n",
      "190/190 [==============================] - 0s 337us/step - loss: 0.1157 - acc: 0.9842 - val_loss: 0.4741 - val_acc: 0.9706\n",
      "Epoch 53/100\n",
      "190/190 [==============================] - 0s 337us/step - loss: 0.0782 - acc: 0.9842 - val_loss: 0.4741 - val_acc: 0.9706\n",
      "Epoch 54/100\n",
      "190/190 [==============================] - 0s 358us/step - loss: 0.2140 - acc: 0.9789 - val_loss: 0.4741 - val_acc: 0.9706\n",
      "Epoch 55/100\n",
      "190/190 [==============================] - 0s 358us/step - loss: 0.1817 - acc: 0.9737 - val_loss: 0.4741 - val_acc: 0.9706\n",
      "Epoch 56/100\n",
      "190/190 [==============================] - 0s 358us/step - loss: 7.2042e-04 - acc: 1.0000 - val_loss: 0.4741 - val_acc: 0.9706\n",
      "Epoch 57/100\n",
      "190/190 [==============================] - 0s 358us/step - loss: 0.3288 - acc: 0.9684 - val_loss: 0.4741 - val_acc: 0.9706\n",
      "Epoch 58/100\n",
      "190/190 [==============================] - 0s 337us/step - loss: 0.0803 - acc: 0.9842 - val_loss: 0.4741 - val_acc: 0.9706\n",
      "Epoch 59/100\n",
      "190/190 [==============================] - 0s 316us/step - loss: 0.2077 - acc: 0.9789 - val_loss: 0.4741 - val_acc: 0.9706\n",
      "Epoch 60/100\n",
      "190/190 [==============================] - 0s 295us/step - loss: 0.1276 - acc: 0.9842 - val_loss: 0.4741 - val_acc: 0.9706\n"
     ]
    },
    {
     "name": "stdout",
     "output_type": "stream",
     "text": [
      "Epoch 61/100\n",
      "190/190 [==============================] - 0s 337us/step - loss: 0.3411 - acc: 0.9684 - val_loss: 0.4741 - val_acc: 0.9706\n",
      "Epoch 62/100\n",
      "190/190 [==============================] - 0s 358us/step - loss: 0.1341 - acc: 0.9895 - val_loss: 0.4741 - val_acc: 0.9706\n",
      "Epoch 63/100\n",
      "190/190 [==============================] - 0s 400us/step - loss: 0.0747 - acc: 0.9842 - val_loss: 0.4741 - val_acc: 0.9706\n",
      "Epoch 64/100\n",
      "190/190 [==============================] - 0s 358us/step - loss: 0.1909 - acc: 0.9842 - val_loss: 0.4741 - val_acc: 0.9706\n",
      "Epoch 65/100\n",
      "190/190 [==============================] - 0s 358us/step - loss: 0.0564 - acc: 0.9842 - val_loss: 0.4741 - val_acc: 0.9706\n",
      "Epoch 66/100\n",
      "190/190 [==============================] - 0s 337us/step - loss: 0.2334 - acc: 0.9789 - val_loss: 0.4741 - val_acc: 0.9706\n",
      "Epoch 67/100\n",
      "190/190 [==============================] - 0s 358us/step - loss: 0.1548 - acc: 0.9789 - val_loss: 0.4741 - val_acc: 0.9706\n",
      "Epoch 68/100\n",
      "190/190 [==============================] - 0s 337us/step - loss: 0.0250 - acc: 0.9947 - val_loss: 0.4741 - val_acc: 0.9706\n",
      "Epoch 69/100\n",
      "190/190 [==============================] - 0s 316us/step - loss: 0.0360 - acc: 0.9895 - val_loss: 0.4741 - val_acc: 0.9706\n",
      "Epoch 70/100\n",
      "190/190 [==============================] - 0s 379us/step - loss: 0.1364 - acc: 0.9895 - val_loss: 0.4741 - val_acc: 0.9706\n",
      "Epoch 71/100\n",
      "190/190 [==============================] - 0s 400us/step - loss: 0.1369 - acc: 0.9895 - val_loss: 0.4360 - val_acc: 0.9706\n",
      "Epoch 72/100\n",
      "190/190 [==============================] - 0s 358us/step - loss: 0.0221 - acc: 0.9947 - val_loss: 0.4741 - val_acc: 0.9706\n",
      "Epoch 73/100\n",
      "190/190 [==============================] - 0s 316us/step - loss: 0.1456 - acc: 0.9842 - val_loss: 0.4741 - val_acc: 0.9706\n",
      "Epoch 74/100\n",
      "190/190 [==============================] - 0s 337us/step - loss: 0.0538 - acc: 0.9895 - val_loss: 0.4714 - val_acc: 0.9706\n",
      "Epoch 75/100\n",
      "190/190 [==============================] - 0s 337us/step - loss: 0.0343 - acc: 0.9895 - val_loss: 0.4741 - val_acc: 0.9706\n",
      "Epoch 76/100\n",
      "190/190 [==============================] - 0s 316us/step - loss: 0.0983 - acc: 0.9789 - val_loss: 0.4741 - val_acc: 0.9706\n",
      "Epoch 77/100\n",
      "190/190 [==============================] - 0s 337us/step - loss: 0.1809 - acc: 0.9737 - val_loss: 0.4741 - val_acc: 0.9706\n",
      "Epoch 78/100\n",
      "190/190 [==============================] - 0s 358us/step - loss: 0.0208 - acc: 0.9947 - val_loss: 0.4741 - val_acc: 0.9706\n",
      "Epoch 79/100\n",
      "190/190 [==============================] - 0s 358us/step - loss: 0.0853 - acc: 0.9842 - val_loss: 0.4441 - val_acc: 0.9706\n",
      "Epoch 80/100\n",
      "190/190 [==============================] - 0s 358us/step - loss: 0.1119 - acc: 0.9842 - val_loss: 0.4194 - val_acc: 0.9706\n",
      "Epoch 81/100\n",
      "190/190 [==============================] - 0s 337us/step - loss: 0.1934 - acc: 0.9789 - val_loss: 0.4741 - val_acc: 0.9706\n",
      "Epoch 82/100\n",
      "190/190 [==============================] - 0s 337us/step - loss: 0.0030 - acc: 1.0000 - val_loss: 0.4741 - val_acc: 0.9706\n",
      "Epoch 83/100\n",
      "190/190 [==============================] - 0s 295us/step - loss: 0.0597 - acc: 0.9947 - val_loss: 0.4741 - val_acc: 0.9706\n",
      "Epoch 84/100\n",
      "190/190 [==============================] - 0s 295us/step - loss: 0.0591 - acc: 0.9789 - val_loss: 0.4741 - val_acc: 0.9706\n",
      "Epoch 85/100\n",
      "190/190 [==============================] - 0s 337us/step - loss: 0.0898 - acc: 0.9895 - val_loss: 0.4741 - val_acc: 0.9706\n",
      "Epoch 86/100\n",
      "190/190 [==============================] - 0s 358us/step - loss: 4.6904e-06 - acc: 1.0000 - val_loss: 0.4741 - val_acc: 0.9706\n",
      "Epoch 87/100\n",
      "190/190 [==============================] - 0s 379us/step - loss: 0.1300 - acc: 0.9895 - val_loss: 0.4741 - val_acc: 0.9706\n",
      "Epoch 88/100\n",
      "190/190 [==============================] - 0s 358us/step - loss: 0.2909 - acc: 0.9684 - val_loss: 0.4741 - val_acc: 0.9706\n",
      "Epoch 89/100\n",
      "190/190 [==============================] - 0s 358us/step - loss: 9.3977e-05 - acc: 1.0000 - val_loss: 0.4741 - val_acc: 0.9706\n",
      "Epoch 90/100\n",
      "190/190 [==============================] - 0s 316us/step - loss: 0.1028 - acc: 0.9895 - val_loss: 0.4741 - val_acc: 0.9706\n",
      "Epoch 91/100\n",
      "190/190 [==============================] - 0s 337us/step - loss: 0.0509 - acc: 0.9947 - val_loss: 0.4741 - val_acc: 0.9706\n",
      "Epoch 92/100\n",
      "190/190 [==============================] - 0s 337us/step - loss: 3.5587e-05 - acc: 1.0000 - val_loss: 0.4741 - val_acc: 0.9706\n",
      "Epoch 93/100\n",
      "190/190 [==============================] - 0s 379us/step - loss: 0.1364 - acc: 0.9842 - val_loss: 0.4741 - val_acc: 0.9706\n",
      "Epoch 94/100\n",
      "190/190 [==============================] - 0s 358us/step - loss: 1.6807e-05 - acc: 1.0000 - val_loss: 0.4741 - val_acc: 0.9706\n",
      "Epoch 95/100\n",
      "190/190 [==============================] - 0s 337us/step - loss: 0.1111 - acc: 0.9895 - val_loss: 0.4431 - val_acc: 0.9706\n",
      "Epoch 96/100\n",
      "190/190 [==============================] - 0s 337us/step - loss: 0.1757 - acc: 0.9842 - val_loss: 0.3328 - val_acc: 0.9706\n",
      "Epoch 97/100\n",
      "190/190 [==============================] - 0s 316us/step - loss: 0.0394 - acc: 0.9947 - val_loss: 0.4035 - val_acc: 0.9706\n",
      "Epoch 98/100\n",
      "190/190 [==============================] - 0s 337us/step - loss: 0.1411 - acc: 0.9895 - val_loss: 0.3220 - val_acc: 0.9706\n",
      "Epoch 99/100\n",
      "190/190 [==============================] - 0s 337us/step - loss: 0.0345 - acc: 0.9895 - val_loss: 0.3210 - val_acc: 0.9706\n",
      "Epoch 100/100\n",
      "190/190 [==============================] - 0s 337us/step - loss: 0.1476 - acc: 0.9789 - val_loss: 0.3073 - val_acc: 0.9706\n"
     ]
    }
   ],
   "source": [
    "model = Sequential()\n",
    "layers = 1\n",
    "units = 128\n",
    "\n",
    "model.add(Dense(units, input_dim=NCOMPONENTS, activation='relu'))\n",
    "model.add(GaussianNoise(pca_std))\n",
    "for i in range(layers):\n",
    "    model.add(Dense(units, activation='relu'))\n",
    "    model.add(GaussianNoise(pca_std))\n",
    "    model.add(Dropout(0.1))\n",
    "model.add(Dense(2, activation='softmax'))\n",
    "\n",
    "model.compile(loss='categorical_crossentropy', optimizer='rmsprop', metrics=['accuracy'])\n",
    "\n",
    "history = model.fit(X_pca_train, y_train_hot, epochs=100, batch_size=8, validation_split=0.15, verbose=1)"
   ]
  },
  {
   "cell_type": "code",
   "execution_count": 34,
   "metadata": {},
   "outputs": [
    {
     "data": {
      "image/png": "[encoded data removed]",
      "text/plain": [
       "<Figure size 432x288 with 1 Axes>"
      ]
     },
     "metadata": {
      "needs_background": "light"
     },
     "output_type": "display_data"
    }
   ],
   "source": [
    "# summarize history for accuracy\n",
    "plt.plot(history.history['acc'])\n",
    "plt.plot(history.history['val_acc'])\n",
    "plt.title('model accuracy')\n",
    "plt.ylabel('accuracy')\n",
    "plt.xlabel('epoch')\n",
    "plt.legend(['train', 'test'], loc='upper left')\n",
    "plt.show()\n"
   ]
  },
  {
   "cell_type": "code",
   "execution_count": 35,
   "metadata": {},
   "outputs": [
    {
     "data": {
      "image/png": "[encoded data removed]",
      "text/plain": [
       "<Figure size 432x288 with 1 Axes>"
      ]
     },
     "metadata": {
      "needs_background": "light"
     },
     "output_type": "display_data"
    }
   ],
   "source": [
    "# summarize history for loss\n",
    "plt.plot(history.history['loss'])\n",
    "plt.plot(history.history['val_loss'])\n",
    "plt.title('model loss')\n",
    "plt.ylabel('loss')\n",
    "plt.xlabel('epoch')\n",
    "plt.legend(['train', 'test'], loc='upper left')\n",
    "plt.show()"
   ]
  },
  {
   "cell_type": "code",
   "execution_count": 36,
   "metadata": {},
   "outputs": [
    {
     "name": "stdout",
     "output_type": "stream",
     "text": [
      "model train data score       :  100.0 %\n",
      "model test data score        :  98.0 %\n"
     ]
    }
   ],
   "source": [
    "score = model.evaluate(X_pca_train, y_train_hot, verbose=2) \n",
    "print (\"model train data score       : \",round(score[1]*100) , \"%\")\n",
    "\n",
    "score = model.evaluate(X_pca_test, y_test_hot, verbose=2) \n",
    "print (\"model test data score        : \",round(score[1]*100) , \"%\")\n"
   ]
  },
  {
   "cell_type": "code",
   "execution_count": null,
   "metadata": {},
   "outputs": [],
   "source": []
  }
 ],
 "metadata": {
  "kernelspec": {
   "display_name": "Python 3",
   "language": "python",
   "name": "python3"
  },
  "language_info": {
   "codemirror_mode": {
    "name": "ipython",
    "version": 3
   },
   "file_extension": ".py",
   "mimetype": "text/x-python",
   "name": "python",
   "nbconvert_exporter": "python",
   "pygments_lexer": "ipython3",
   "version": "3.6.4"
  }
 },
 "nbformat": 4,
 "nbformat_minor": 2
}
