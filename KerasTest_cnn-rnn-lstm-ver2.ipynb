{
 "cells": [
  {
   "cell_type": "code",
   "execution_count": 1,
   "metadata": {},
   "outputs": [
    {
     "name": "stderr",
     "output_type": "stream",
     "text": [
      "C:\\Users\\lenovo_pc\\Anaconda3\\lib\\site-packages\\h5py\\__init__.py:36: FutureWarning: Conversion of the second argument of issubdtype from `float` to `np.floating` is deprecated. In future, it will be treated as `np.float64 == np.dtype(float).type`.\n",
      "  from ._conv import register_converters as _register_converters\n",
      "Using TensorFlow backend.\n"
     ]
    }
   ],
   "source": [
    "import keras\n",
    "import numpy as np\n",
    "import matplotlib.pyplot as plt\n",
    "import os\n",
    "import pandas as pd\n",
    "import librosa\n",
    "from keras.utils import to_categorical"
   ]
  },
  {
   "cell_type": "code",
   "execution_count": 2,
   "metadata": {},
   "outputs": [],
   "source": [
    "def get_labels(path):\n",
    "    labels = os.listdir(path)\n",
    "    label_indices = np.arange(0, len(labels))    \n",
    "    return labels, label_indices, to_categorical(label_indices)\n",
    "\n",
    "\n",
    "\n"
   ]
  },
  {
   "cell_type": "code",
   "execution_count": 3,
   "metadata": {},
   "outputs": [],
   "source": [
    "from sklearn.model_selection import train_test_split\n",
    "\n",
    "def get_train_test(split_ratio=0.8, random_state=42):\n",
    "    # Get available labels\n",
    "    labels, indices, _ = get_labels(DATA_PATH)\n",
    "\n",
    "    # Getting first arrays\n",
    "    X = np.load(labels[0] + '.npy')\n",
    "    y = np.zeros(X.shape[0])\n",
    "\n",
    "    # Append all of the dataset into one single array, same goes for y\n",
    "    for i, label in enumerate(labels[1:]):\n",
    "        x = np.load(label + '.npy')\n",
    "        X = np.vstack((X, x))\n",
    "        y = np.append(y, np.full(x.shape[0], fill_value= (i + 1)))\n",
    "\n",
    "    assert X.shape[0] == len(y)\n",
    "\n",
    "    return train_test_split(X, y, test_size= (1 - split_ratio), random_state=random_state, shuffle=True)\n",
    "\n",
    "\n",
    "\n",
    "def save_data_to_array(path, max_pad_len):\n",
    "    labels, _, _ = get_labels(path)\n",
    "\n",
    "    for label in labels:\n",
    "        # Init mfcc vectors\n",
    "        mfcc_vectors = []\n",
    "\n",
    "        wavfiles = [path + '/' + label + '/' + wavfile for wavfile in os.listdir(path + '/' + label)]\n",
    "        #wavfiles = librosa.util.find_files(db)\n",
    "        #print(wavfiles)\n",
    "        x=0\n",
    "        for wavfile in wavfiles:\n",
    "            name=label+'_'+str(x)\n",
    "            mfcc = wav2mfcc(wavfile, name, max_pad_len=max_pad_len)\n",
    "            mfcc_vectors.append(mfcc)\n",
    "            x=x+1\n",
    "        np.save(label + '.npy', mfcc_vectors)\n",
    "        \n",
    "        \n",
    "        \n",
    "max_pad_len=30\n",
    "\n",
    "def wav2mfcc(file_path, name, max_pad_len=30):\n",
    "    wave, sr = librosa.load(file_path)\n",
    "    mfcc = librosa.feature.melspectrogram(wave, sr=sr)\n",
    "    pad_width = max_pad_len - mfcc.shape[1]\n",
    "    mfcc = np.pad(mfcc, pad_width=((0, 0), (0, pad_width)), mode='constant')\n",
    "    pd.DataFrame(mfcc).to_csv(VALUE_PATH+'/'+name+'.csv')\n",
    "    return mfcc"
   ]
  },
  {
   "cell_type": "code",
   "execution_count": 4,
   "metadata": {},
   "outputs": [],
   "source": [
    "DATA_PATH = r'C:\\Users\\lenovo_pc\\Desktop\\CNN_SR\\Dataset-v2'\n",
    "VALUE_PATH = r'C:\\Users\\lenovo_pc\\Desktop\\CNN_SR\\melspectrogramValues'\n",
    "\n",
    "\n",
    "#db = r'C:\\Users\\lenovo_pc\\Desktop\\CNN_SR\\SampleData'\n",
    "\n",
    "\n",
    "# Second dimension of the feature is dim2\n",
    "feature_dim_2 = 22\n",
    "\n",
    "# Save data to array file first\n",
    "save_data_to_array(DATA_PATH,feature_dim_2)\n",
    "\n",
    "# # Loading train set and test set\n",
    "X_train, X_test, y_train, y_test = get_train_test()\n",
    "\n",
    "# # Feature dimension\n",
    "feature_dim_1 = 128\n",
    "channel = 1\n",
    "epochs = 50\n",
    "batch_size = 100\n",
    "verbose = 1\n",
    "num_classes = 2\n",
    "\n",
    "\n",
    "y_train_hot = to_categorical(y_train)\n",
    "y_test_hot = to_categorical(y_test)"
   ]
  },
  {
   "cell_type": "code",
   "execution_count": 5,
   "metadata": {},
   "outputs": [
    {
     "name": "stdout",
     "output_type": "stream",
     "text": [
      "(224, 128, 22)\n",
      "(57, 128, 22)\n"
     ]
    }
   ],
   "source": [
    "\n",
    "#X_train = np.array(x_train)\n",
    "print(X_train.shape)\n",
    "print(X_test.shape)\n"
   ]
  },
  {
   "cell_type": "code",
   "execution_count": 6,
   "metadata": {},
   "outputs": [],
   "source": [
    "from keras.models import Sequential\n",
    "from keras.layers import Dense, Dropout\n",
    "from keras.layers import Embedding\n",
    "from keras.layers import Conv1D, GlobalAveragePooling1D, MaxPooling1D"
   ]
  },
  {
   "cell_type": "code",
   "execution_count": 11,
   "metadata": {},
   "outputs": [],
   "source": [
    "seq_length = 128\n",
    "\n",
    "model = Sequential()\n",
    "model.add(Conv1D(64, 3, activation='relu', input_shape=(seq_length,22)))\n",
    "model.add(Conv1D(64, 3, activation='relu'))\n",
    "model.add(MaxPooling1D(3))\n",
    "model.add(Conv1D(128, 3, activation='relu'))\n",
    "model.add(Conv1D(128, 3, activation='relu'))\n",
    "model.add(GlobalAveragePooling1D())\n",
    "model.add(Dropout(0.5))\n",
    "model.add(Dense(2, activation='sigmoid'))\n"
   ]
  },
  {
   "cell_type": "code",
   "execution_count": 12,
   "metadata": {},
   "outputs": [],
   "source": [
    "model.compile(loss='binary_crossentropy',\n",
    "              optimizer='rmsprop',\n",
    "              metrics=['accuracy'])\n",
    "\n"
   ]
  },
  {
   "cell_type": "code",
   "execution_count": 13,
   "metadata": {},
   "outputs": [
    {
     "name": "stdout",
     "output_type": "stream",
     "text": [
      "Train on 224 samples, validate on 57 samples\n",
      "Epoch 1/50\n",
      "224/224 [==============================] - 13s 56ms/step - loss: 0.9964 - acc: 0.5714 - val_loss: 0.4387 - val_acc: 0.8509\n",
      "Epoch 2/50\n",
      "224/224 [==============================] - 11s 49ms/step - loss: 0.4886 - acc: 0.8170 - val_loss: 0.3706 - val_acc: 0.9211\n",
      "Epoch 3/50\n",
      "224/224 [==============================] - 10s 45ms/step - loss: 0.3420 - acc: 0.9085 - val_loss: 0.1426 - val_acc: 1.0000\n",
      "Epoch 4/50\n",
      "224/224 [==============================] - 12s 51ms/step - loss: 0.1827 - acc: 0.9844 - val_loss: 0.1020 - val_acc: 1.0000\n",
      "Epoch 5/50\n",
      "224/224 [==============================] - 10s 46ms/step - loss: 0.1513 - acc: 0.9866 - val_loss: 0.0813 - val_acc: 1.0000\n",
      "Epoch 6/50\n",
      "224/224 [==============================] - 12s 53ms/step - loss: 0.1157 - acc: 0.9978 - val_loss: 0.0672 - val_acc: 1.0000\n",
      "Epoch 7/50\n",
      "224/224 [==============================] - 14s 61ms/step - loss: 0.1248 - acc: 0.9754 - val_loss: 0.0519 - val_acc: 1.0000\n",
      "Epoch 8/50\n",
      "224/224 [==============================] - 12s 56ms/step - loss: 0.0808 - acc: 0.9978 - val_loss: 0.0385 - val_acc: 1.0000\n",
      "Epoch 9/50\n",
      "224/224 [==============================] - 12s 52ms/step - loss: 0.0648 - acc: 0.9955 - val_loss: 0.0288 - val_acc: 1.0000\n",
      "Epoch 10/50\n",
      "224/224 [==============================] - 11s 49ms/step - loss: 0.0599 - acc: 0.9911 - val_loss: 0.0190 - val_acc: 1.0000\n",
      "Epoch 11/50\n",
      "224/224 [==============================] - 10s 44ms/step - loss: 0.0754 - acc: 0.9777 - val_loss: 0.0147 - val_acc: 1.0000\n",
      "Epoch 12/50\n",
      "224/224 [==============================] - 11s 49ms/step - loss: 0.0442 - acc: 0.9888 - val_loss: 0.0113 - val_acc: 1.0000\n",
      "Epoch 13/50\n",
      "224/224 [==============================] - 12s 53ms/step - loss: 0.1578 - acc: 0.9799 - val_loss: 0.7464 - val_acc: 0.9035\n",
      "Epoch 14/50\n",
      "224/224 [==============================] - 11s 48ms/step - loss: 0.3379 - acc: 0.9576 - val_loss: 0.0111 - val_acc: 1.0000\n",
      "Epoch 15/50\n",
      "224/224 [==============================] - 12s 52ms/step - loss: 0.0393 - acc: 0.9933 - val_loss: 0.0102 - val_acc: 1.0000\n",
      "Epoch 16/50\n",
      "224/224 [==============================] - 11s 51ms/step - loss: 0.0394 - acc: 0.9955 - val_loss: 0.0077 - val_acc: 1.0000\n",
      "Epoch 17/50\n",
      "224/224 [==============================] - 11s 48ms/step - loss: 0.0331 - acc: 0.9955 - val_loss: 0.0071 - val_acc: 1.0000\n",
      "Epoch 18/50\n",
      "224/224 [==============================] - 11s 50ms/step - loss: 0.0256 - acc: 1.0000 - val_loss: 0.0062 - val_acc: 1.0000\n",
      "Epoch 19/50\n",
      "224/224 [==============================] - 11s 49ms/step - loss: 0.0240 - acc: 0.9955 - val_loss: 0.0053 - val_acc: 1.0000\n",
      "Epoch 20/50\n",
      "224/224 [==============================] - 11s 51ms/step - loss: 0.0238 - acc: 0.9955 - val_loss: 0.0056 - val_acc: 1.0000\n",
      "Epoch 21/50\n",
      "224/224 [==============================] - 11s 50ms/step - loss: 0.0239 - acc: 1.0000 - val_loss: 0.0045 - val_acc: 1.0000\n",
      "Epoch 22/50\n",
      "224/224 [==============================] - 12s 53ms/step - loss: 0.0214 - acc: 0.9978 - val_loss: 0.0038 - val_acc: 1.0000\n",
      "Epoch 23/50\n",
      "224/224 [==============================] - 14s 60ms/step - loss: 0.0208 - acc: 0.9978 - val_loss: 0.0029 - val_acc: 1.0000\n",
      "Epoch 24/50\n",
      "224/224 [==============================] - 12s 54ms/step - loss: 0.0174 - acc: 0.9955 - val_loss: 0.0025 - val_acc: 1.0000\n",
      "Epoch 25/50\n",
      "224/224 [==============================] - 12s 51ms/step - loss: 0.0185 - acc: 0.9978 - val_loss: 0.0023 - val_acc: 1.0000\n",
      "Epoch 26/50\n",
      "224/224 [==============================] - 11s 48ms/step - loss: 0.0131 - acc: 1.0000 - val_loss: 0.0013 - val_acc: 1.0000\n",
      "Epoch 27/50\n",
      "224/224 [==============================] - 11s 49ms/step - loss: 0.0105 - acc: 1.0000 - val_loss: 9.9481e-04 - val_acc: 1.0000\n",
      "Epoch 28/50\n",
      "224/224 [==============================] - 11s 49ms/step - loss: 0.0103 - acc: 1.0000 - val_loss: 0.0011 - val_acc: 1.0000\n",
      "Epoch 29/50\n",
      "224/224 [==============================] - 14s 61ms/step - loss: 0.1628 - acc: 0.9777 - val_loss: 0.8376 - val_acc: 0.9035\n",
      "Epoch 30/50\n",
      "224/224 [==============================] - 12s 53ms/step - loss: 0.5335 - acc: 0.9420 - val_loss: 8.6979e-04 - val_acc: 1.0000\n",
      "Epoch 31/50\n",
      "224/224 [==============================] - 12s 54ms/step - loss: 0.0095 - acc: 1.0000 - val_loss: 8.4395e-04 - val_acc: 1.0000\n",
      "Epoch 32/50\n",
      "224/224 [==============================] - 10s 46ms/step - loss: 0.0081 - acc: 1.0000 - val_loss: 8.0606e-04 - val_acc: 1.0000\n",
      "Epoch 33/50\n",
      "224/224 [==============================] - 11s 48ms/step - loss: 0.0162 - acc: 0.9978 - val_loss: 6.2429e-04 - val_acc: 1.0000\n",
      "Epoch 34/50\n",
      "224/224 [==============================] - 11s 49ms/step - loss: 0.0092 - acc: 0.9978 - val_loss: 6.2230e-04 - val_acc: 1.0000\n",
      "Epoch 35/50\n",
      "224/224 [==============================] - 10s 45ms/step - loss: 0.0077 - acc: 1.0000 - val_loss: 6.1377e-04 - val_acc: 1.0000\n",
      "Epoch 36/50\n",
      "224/224 [==============================] - 10s 46ms/step - loss: 0.0093 - acc: 0.9978 - val_loss: 5.7306e-04 - val_acc: 1.0000\n",
      "Epoch 37/50\n",
      "224/224 [==============================] - 11s 47ms/step - loss: 0.0088 - acc: 1.0000 - val_loss: 5.4106e-04 - val_acc: 1.0000\n",
      "Epoch 38/50\n",
      "224/224 [==============================] - 10s 44ms/step - loss: 0.0108 - acc: 0.9978 - val_loss: 5.1643e-04 - val_acc: 1.0000\n",
      "Epoch 39/50\n",
      "224/224 [==============================] - 11s 48ms/step - loss: 0.0097 - acc: 0.9978 - val_loss: 5.8816e-04 - val_acc: 1.0000\n",
      "Epoch 40/50\n",
      "224/224 [==============================] - 11s 47ms/step - loss: 0.0069 - acc: 1.0000 - val_loss: 4.8133e-04 - val_acc: 1.0000\n",
      "Epoch 41/50\n",
      "224/224 [==============================] - 10s 47ms/step - loss: 0.0064 - acc: 1.0000 - val_loss: 4.6243e-04 - val_acc: 1.0000\n",
      "Epoch 42/50\n",
      "224/224 [==============================] - 10s 47ms/step - loss: 0.0060 - acc: 1.0000 - val_loss: 3.6482e-04 - val_acc: 1.0000\n",
      "Epoch 43/50\n",
      "224/224 [==============================] - 11s 47ms/step - loss: 0.0052 - acc: 1.0000 - val_loss: 3.4146e-04 - val_acc: 1.0000\n",
      "Epoch 44/50\n",
      "224/224 [==============================] - 10s 44ms/step - loss: 0.0283 - acc: 0.9978 - val_loss: 3.6349e-04 - val_acc: 1.0000\n",
      "Epoch 45/50\n",
      "224/224 [==============================] - 11s 47ms/step - loss: 0.0106 - acc: 0.9978 - val_loss: 4.0838e-04 - val_acc: 1.0000\n",
      "Epoch 46/50\n",
      "224/224 [==============================] - 11s 47ms/step - loss: 0.0066 - acc: 1.0000 - val_loss: 3.4037e-04 - val_acc: 1.0000\n",
      "Epoch 47/50\n",
      "224/224 [==============================] - 10s 46ms/step - loss: 0.0059 - acc: 1.0000 - val_loss: 2.7553e-04 - val_acc: 1.0000\n",
      "Epoch 48/50\n",
      "224/224 [==============================] - 10s 47ms/step - loss: 0.0062 - acc: 1.0000 - val_loss: 2.1613e-04 - val_acc: 1.0000\n",
      "Epoch 49/50\n",
      "224/224 [==============================] - 10s 46ms/step - loss: 0.0040 - acc: 1.0000 - val_loss: 1.3136e-04 - val_acc: 1.0000\n",
      "Epoch 50/50\n",
      "224/224 [==============================] - 12s 55ms/step - loss: 0.0040 - acc: 1.0000 - val_loss: 1.0316e-04 - val_acc: 1.0000\n"
     ]
    }
   ],
   "source": [
    "#model.fit(x_train, y_train, batch_size=7, epochs=10)\n",
    "\n",
    "history = model.fit(X_train, y_train_hot, batch_size=batch_size, epochs=epochs, verbose=verbose, validation_data=(X_test, y_test_hot))"
   ]
  },
  {
   "cell_type": "code",
   "execution_count": 14,
   "metadata": {},
   "outputs": [
    {
     "name": "stdout",
     "output_type": "stream",
     "text": [
      "model train data score       :  100.0 %\n",
      "model test data score        :  100.0 %\n"
     ]
    }
   ],
   "source": [
    "score = model.evaluate(X_train, y_train_hot, verbose=0) \n",
    "print (\"model train data score       : \",round(score[1]*100) , \"%\")\n",
    "\n",
    "score = model.evaluate(X_test, y_test_hot, verbose=0) \n",
    "print (\"model test data score        : \",round(score[1]*100) , \"%\")\n"
   ]
  },
  {
   "cell_type": "code",
   "execution_count": 15,
   "metadata": {},
   "outputs": [
    {
     "data": {
      "image/png": "[encoded data removed]",
      "text/plain": [
       "<Figure size 432x288 with 1 Axes>"
      ]
     },
     "metadata": {
      "needs_background": "light"
     },
     "output_type": "display_data"
    }
   ],
   "source": [
    "# summarize history for accuracy\n",
    "plt.plot(history.history['acc'])\n",
    "plt.plot(history.history['val_acc'])\n",
    "plt.title('model accuracy')\n",
    "plt.ylabel('accuracy')\n",
    "plt.xlabel('epoch')\n",
    "plt.legend(['train', 'test'], loc='upper left')\n",
    "plt.show()\n"
   ]
  },
  {
   "cell_type": "code",
   "execution_count": 16,
   "metadata": {},
   "outputs": [
    {
     "data": {
      "image/png": "[encoded data removed]",
      "text/plain": [
       "<Figure size 432x288 with 1 Axes>"
      ]
     },
     "metadata": {
      "needs_background": "light"
     },
     "output_type": "display_data"
    }
   ],
   "source": [
    "# summarize history for loss\n",
    "plt.plot(history.history['loss'])\n",
    "plt.plot(history.history['val_loss'])\n",
    "plt.title('model loss')\n",
    "plt.ylabel('loss')\n",
    "plt.xlabel('epoch')\n",
    "plt.legend(['train', 'test'], loc='upper left')\n",
    "plt.show()"
   ]
  },
  {
   "cell_type": "code",
   "execution_count": 17,
   "metadata": {},
   "outputs": [],
   "source": [
    "seq_length = 128\n",
    "\n",
    "model = Sequential()\n",
    "model.add(Conv1D(64, 4, activation='relu', input_shape=(seq_length,22)))\n",
    "model.add(Conv1D(64, 4, activation='relu'))\n",
    "model.add(Conv1D(64, 4, activation='relu'))\n",
    "model.add(Conv1D(64, 4, activation='relu'))\n",
    "model.add(MaxPooling1D(3))\n",
    "model.add(Conv1D(128, 3, activation='relu'))\n",
    "model.add(Conv1D(128, 3, activation='relu'))\n",
    "model.add(Conv1D(128, 3, activation='relu'))\n",
    "model.add(MaxPooling1D(3))\n",
    "model.add(Conv1D(256, 2, activation='relu'))\n",
    "model.add(Conv1D(256, 2, activation='relu'))\n",
    "model.add(GlobalAveragePooling1D())\n",
    "model.add(Dropout(0.5))\n",
    "model.add(Dense(2, activation='sigmoid'))"
   ]
  },
  {
   "cell_type": "code",
   "execution_count": 18,
   "metadata": {},
   "outputs": [],
   "source": [
    "model.compile(loss='binary_crossentropy',\n",
    "              optimizer='sgd',\n",
    "              metrics=['accuracy'])"
   ]
  },
  {
   "cell_type": "code",
   "execution_count": 19,
   "metadata": {},
   "outputs": [
    {
     "name": "stdout",
     "output_type": "stream",
     "text": [
      "Train on 224 samples, validate on 57 samples\n",
      "Epoch 1/10\n",
      "224/224 [==============================] - 27s 123ms/step - loss: 0.6338 - acc: 0.7188 - val_loss: 0.5305 - val_acc: 0.9211\n",
      "Epoch 2/10\n",
      "224/224 [==============================] - 26s 117ms/step - loss: 0.4690 - acc: 0.9129 - val_loss: 0.3252 - val_acc: 1.0000\n",
      "Epoch 3/10\n",
      "224/224 [==============================] - 37s 167ms/step - loss: 0.2424 - acc: 0.9933 - val_loss: 0.1324 - val_acc: 1.0000\n",
      "Epoch 4/10\n",
      "224/224 [==============================] - 39s 174ms/step - loss: 0.1263 - acc: 0.9978 - val_loss: 0.0788 - val_acc: 1.0000\n",
      "Epoch 5/10\n",
      "224/224 [==============================] - 37s 165ms/step - loss: 0.0928 - acc: 1.0000 - val_loss: 0.0563 - val_acc: 1.0000\n",
      "Epoch 6/10\n",
      "224/224 [==============================] - 37s 164ms/step - loss: 0.0817 - acc: 1.0000 - val_loss: 0.0441 - val_acc: 1.0000\n",
      "Epoch 7/10\n",
      "224/224 [==============================] - 37s 164ms/step - loss: 0.0707 - acc: 1.0000 - val_loss: 0.0362 - val_acc: 1.0000\n",
      "Epoch 8/10\n",
      "224/224 [==============================] - 36s 159ms/step - loss: 0.0567 - acc: 1.0000 - val_loss: 0.0309 - val_acc: 1.0000\n",
      "Epoch 9/10\n",
      "224/224 [==============================] - 39s 175ms/step - loss: 0.0592 - acc: 1.0000 - val_loss: 0.0270 - val_acc: 1.0000\n",
      "Epoch 10/10\n",
      "224/224 [==============================] - 42s 187ms/step - loss: 0.0543 - acc: 1.0000 - val_loss: 0.0233 - val_acc: 1.0000\n"
     ]
    }
   ],
   "source": [
    "\n",
    "history = model.fit(X_train, y_train_hot, batch_size=7, epochs=10, validation_data=(X_test, y_test_hot))"
   ]
  },
  {
   "cell_type": "code",
   "execution_count": 20,
   "metadata": {},
   "outputs": [
    {
     "name": "stdout",
     "output_type": "stream",
     "text": [
      "model train data score       :  100.0 %\n",
      "model test data score        :  100.0 %\n"
     ]
    }
   ],
   "source": [
    "score = model.evaluate(X_train, y_train_hot, verbose=0) \n",
    "print (\"model train data score       : \",round(score[1]*100) , \"%\")\n",
    "\n",
    "score = model.evaluate(X_test, y_test_hot, verbose=0) \n",
    "print (\"model test data score        : \",round(score[1]*100) , \"%\")\n"
   ]
  },
  {
   "cell_type": "code",
   "execution_count": 21,
   "metadata": {},
   "outputs": [
    {
     "data": {
      "image/png": "[encoded data removed]",
      "text/plain": [
       "<Figure size 432x288 with 1 Axes>"
      ]
     },
     "metadata": {
      "needs_background": "light"
     },
     "output_type": "display_data"
    }
   ],
   "source": [
    "# summarize history for accuracy\n",
    "plt.plot(history.history['acc'])\n",
    "plt.plot(history.history['val_acc'])\n",
    "plt.title('model accuracy')\n",
    "plt.ylabel('accuracy')\n",
    "plt.xlabel('epoch')\n",
    "plt.legend(['train', 'test'], loc='upper left')\n",
    "plt.show()"
   ]
  },
  {
   "cell_type": "code",
   "execution_count": 22,
   "metadata": {},
   "outputs": [
    {
     "data": {
      "image/png": "[encoded data removed]",
      "text/plain": [
       "<Figure size 432x288 with 1 Axes>"
      ]
     },
     "metadata": {
      "needs_background": "light"
     },
     "output_type": "display_data"
    }
   ],
   "source": [
    "# summarize history for loss\n",
    "plt.plot(history.history['loss'])\n",
    "plt.plot(history.history['val_loss'])\n",
    "plt.title('model loss')\n",
    "plt.ylabel('loss')\n",
    "plt.xlabel('epoch')\n",
    "plt.legend(['train', 'test'], loc='upper left')\n",
    "plt.show()"
   ]
  },
  {
   "cell_type": "code",
   "execution_count": 23,
   "metadata": {},
   "outputs": [],
   "source": [
    "import numpy as np\n",
    "from keras.models import Sequential\n",
    "from keras.layers import Dense, Dropout, Activation, Flatten, LSTM\n",
    "from keras.layers import Convolution2D, MaxPooling2D\n",
    "from keras.optimizers import Adam\n",
    "from keras.callbacks import EarlyStopping,ReduceLROnPlateau,ModelCheckpoint,TensorBoard,ProgbarLogger\n",
    "from keras.utils import np_utils\n",
    "from sklearn import metrics \n",
    "from sklearn.metrics import confusion_matrix, classification_report, accuracy_score\n",
    "from sklearn.preprocessing import LabelEncoder\n",
    "import itertools"
   ]
  },
  {
   "cell_type": "code",
   "execution_count": 27,
   "metadata": {},
   "outputs": [
    {
     "name": "stdout",
     "output_type": "stream",
     "text": [
      "Build LSTM RNN model ...\n",
      "_________________________________________________________________\n",
      "Layer (type)                 Output Shape              Param #   \n",
      "=================================================================\n",
      "lstm_3 (LSTM)                (None, 128, 64)           22272     \n",
      "_________________________________________________________________\n",
      "lstm_4 (LSTM)                (None, 32)                12416     \n",
      "_________________________________________________________________\n",
      "dense_5 (Dense)              (None, 2)                 66        \n",
      "=================================================================\n",
      "Total params: 34,754\n",
      "Trainable params: 34,754\n",
      "Non-trainable params: 0\n",
      "_________________________________________________________________\n"
     ]
    }
   ],
   "source": [
    "print('Build LSTM RNN model ...')\n",
    "model = Sequential()\n",
    "model.add(LSTM(units=64, dropout=0.05, recurrent_dropout=0.20, return_sequences=True,input_shape = (128,22)))\n",
    "model.add(LSTM(units=32, dropout=0.05, recurrent_dropout=0.20, return_sequences=False))\n",
    "model.add(Dense(2, activation='softmax'))\n",
    "model.compile(loss='categorical_crossentropy', optimizer='Adamax', metrics=['acc','mse', 'mae', 'mape', 'cosine'])\n",
    "model.summary()"
   ]
  },
  {
   "cell_type": "code",
   "execution_count": 28,
   "metadata": {},
   "outputs": [
    {
     "name": "stdout",
     "output_type": "stream",
     "text": [
      "training started..... please wait.\n",
      "\n",
      "Epoch 00001: loss improved from inf to 0.69237, saving model to ./best_model_trained.hdf5\n",
      "\n",
      "Epoch 00002: loss improved from 0.69237 to 0.67958, saving model to ./best_model_trained.hdf5\n",
      "\n",
      "Epoch 00003: loss improved from 0.67958 to 0.52432, saving model to ./best_model_trained.hdf5\n",
      "\n",
      "Epoch 00004: loss improved from 0.52432 to 0.41415, saving model to ./best_model_trained.hdf5\n",
      "\n",
      "Epoch 00005: loss improved from 0.41415 to 0.29453, saving model to ./best_model_trained.hdf5\n",
      "\n",
      "Epoch 00006: loss improved from 0.29453 to 0.24562, saving model to ./best_model_trained.hdf5\n",
      "\n",
      "Epoch 00007: loss improved from 0.24562 to 0.19957, saving model to ./best_model_trained.hdf5\n",
      "\n",
      "Epoch 00008: loss improved from 0.19957 to 0.19571, saving model to ./best_model_trained.hdf5\n",
      "\n",
      "Epoch 00009: loss improved from 0.19571 to 0.19077, saving model to ./best_model_trained.hdf5\n",
      "\n",
      "Epoch 00010: loss improved from 0.19077 to 0.14271, saving model to ./best_model_trained.hdf5\n",
      "\n",
      "Epoch 00011: loss did not improve from 0.14271\n",
      "\n",
      "Epoch 00012: loss improved from 0.14271 to 0.13290, saving model to ./best_model_trained.hdf5\n",
      "\n",
      "Epoch 00013: loss improved from 0.13290 to 0.08479, saving model to ./best_model_trained.hdf5\n",
      "\n",
      "Epoch 00014: loss did not improve from 0.08479\n",
      "\n",
      "Epoch 00015: loss improved from 0.08479 to 0.06757, saving model to ./best_model_trained.hdf5\n",
      "\n",
      "Epoch 00016: loss did not improve from 0.06757\n",
      "\n",
      "Epoch 00017: loss did not improve from 0.06757\n",
      "\n",
      "Epoch 00018: loss improved from 0.06757 to 0.06726, saving model to ./best_model_trained.hdf5\n",
      "\n",
      "Epoch 00019: loss improved from 0.06726 to 0.05607, saving model to ./best_model_trained.hdf5\n",
      "\n",
      "Epoch 00020: loss did not improve from 0.05607\n",
      "\n",
      "Epoch 00021: loss did not improve from 0.05607\n",
      "\n",
      "Epoch 00022: loss did not improve from 0.05607\n",
      "\n",
      "Epoch 00023: loss did not improve from 0.05607\n",
      "\n",
      "Epoch 00024: loss improved from 0.05607 to 0.03897, saving model to ./best_model_trained.hdf5\n",
      "\n",
      "Epoch 00025: loss did not improve from 0.03897\n",
      "\n",
      "Epoch 00026: loss did not improve from 0.03897\n",
      "\n",
      "Epoch 00027: loss improved from 0.03897 to 0.03262, saving model to ./best_model_trained.hdf5\n",
      "\n",
      "Epoch 00028: loss did not improve from 0.03262\n",
      "\n",
      "Epoch 00029: loss did not improve from 0.03262\n",
      "\n",
      "Epoch 00030: loss did not improve from 0.03262\n",
      "\n",
      "Epoch 00031: loss did not improve from 0.03262\n",
      "\n",
      "Epoch 00032: loss did not improve from 0.03262\n",
      "\n",
      "Epoch 00033: loss did not improve from 0.03262\n",
      "\n",
      "Epoch 00034: loss improved from 0.03262 to 0.03232, saving model to ./best_model_trained.hdf5\n",
      "\n",
      "Epoch 00035: loss did not improve from 0.03232\n",
      "\n",
      "Epoch 00036: loss did not improve from 0.03232\n",
      "\n",
      "Epoch 00037: loss improved from 0.03232 to 0.02561, saving model to ./best_model_trained.hdf5\n",
      "\n",
      "Epoch 00038: loss improved from 0.02561 to 0.01780, saving model to ./best_model_trained.hdf5\n",
      "\n",
      "Epoch 00039: loss improved from 0.01780 to 0.00820, saving model to ./best_model_trained.hdf5\n",
      "\n",
      "Epoch 00040: loss did not improve from 0.00820\n",
      "\n",
      "Epoch 00041: loss did not improve from 0.00820\n",
      "\n",
      "Epoch 00042: loss did not improve from 0.00820\n",
      "\n",
      "Epoch 00043: loss did not improve from 0.00820\n",
      "\n",
      "Epoch 00044: loss did not improve from 0.00820\n",
      "\n",
      "Epoch 00045: loss did not improve from 0.00820\n",
      "\n",
      "Epoch 00046: loss did not improve from 0.00820\n",
      "\n",
      "Epoch 00047: loss did not improve from 0.00820\n",
      "\n",
      "Epoch 00048: loss did not improve from 0.00820\n",
      "\n",
      "Epoch 00049: loss did not improve from 0.00820\n",
      "\n",
      "Epoch 00050: loss did not improve from 0.00820\n",
      "training finised!\n",
      "Wall time: 6min 22s\n"
     ]
    }
   ],
   "source": [
    "%%time\n",
    "# saved model checkpoint file\n",
    "best_model_file=\"./best_model_trained.hdf5\"\n",
    "#train_model_file=file_path+\"/checkpoints/weights.best_{epoch:02d}-{loss:.2f}.hdf5\"\n",
    "MAX_PATIENT=12\n",
    "MAX_EPOCHS=50\n",
    "MAX_BATCH=7\n",
    "\n",
    "# callbacks\n",
    "# removed EarlyStopping(patience=MAX_PATIENT)\n",
    "callback=[ReduceLROnPlateau(patience=MAX_PATIENT, verbose=1),\n",
    "          ModelCheckpoint(filepath=best_model_file, monitor='loss', verbose=1, save_best_only=True)]\n",
    "\n",
    "print (\"training started..... please wait.\")\n",
    "# training\n",
    "history=model.fit(X_train, y_train_hot, \n",
    "                  batch_size=MAX_BATCH, \n",
    "                  epochs=MAX_EPOCHS,\n",
    "                  verbose=0,\n",
    "                  validation_data=(X_test, y_test_hot),\n",
    "                  callbacks=callback) \n",
    "\n",
    "print (\"training finised!\")\n",
    "\n",
    "\n"
   ]
  },
  {
   "cell_type": "code",
   "execution_count": 37,
   "metadata": {},
   "outputs": [
    {
     "name": "stdout",
     "output_type": "stream",
     "text": [
      "224/224 [==============================] - 0s 2ms/step\n",
      "model train data score       :  100.0 %\n",
      "[0.0274753491726837, 0.9955357142857143, 0.004437125293147152, 0.008245056461808937, 4122528.8571428573, -0.9955492785998753]\n",
      "57/57 [==============================] - 0s 2ms/step\n",
      "model test data score        :  100.0 %\n",
      "[0.0035152380199482045, 1.0, 1.4114859352463227e-05, 0.003508163301535604, 1754083.7127192982, -0.9999928077061971]\n"
     ]
    }
   ],
   "source": [
    "score = model.evaluate(X_train, y_train_hot, verbose=1) \n",
    "print (\"model train data score       : \",round(score[1]*100) , \"%\")\n",
    "print(score)\n",
    "score = model.evaluate(X_test, y_test_hot, verbose=1) \n",
    "print (\"model test data score        : \",round(score[1]*100) , \"%\")\n",
    "\n",
    "print(score)"
   ]
  },
  {
   "cell_type": "code",
   "execution_count": 30,
   "metadata": {},
   "outputs": [
    {
     "data": {
      "image/png": "[encoded data removed]",
      "text/plain": [
       "<Figure size 432x288 with 1 Axes>"
      ]
     },
     "metadata": {
      "needs_background": "light"
     },
     "output_type": "display_data"
    }
   ],
   "source": [
    "# summarize history for accuracy\n",
    "plt.plot(history.history['acc'])\n",
    "plt.plot(history.history['val_acc'])\n",
    "plt.title('model accuracy')\n",
    "plt.ylabel('accuracy')\n",
    "plt.xlabel('epoch')\n",
    "plt.legend(['train', 'test'], loc='upper left')\n",
    "plt.show()"
   ]
  },
  {
   "cell_type": "code",
   "execution_count": 31,
   "metadata": {},
   "outputs": [
    {
     "data": {
      "image/png": "[encoded data removed]",
      "text/plain": [
       "<Figure size 432x288 with 1 Axes>"
      ]
     },
     "metadata": {
      "needs_background": "light"
     },
     "output_type": "display_data"
    }
   ],
   "source": [
    "# summarize history for loss\n",
    "plt.plot(history.history['loss'])\n",
    "plt.plot(history.history['val_loss'])\n",
    "plt.title('model loss')\n",
    "plt.ylabel('loss')\n",
    "plt.xlabel('epoch')\n",
    "plt.legend(['train', 'test'], loc='upper left')\n",
    "plt.show()"
   ]
  },
  {
   "cell_type": "code",
   "execution_count": null,
   "metadata": {},
   "outputs": [],
   "source": []
  }
 ],
 "metadata": {
  "kernelspec": {
   "display_name": "Python 3",
   "language": "python",
   "name": "python3"
  },
  "language_info": {
   "codemirror_mode": {
    "name": "ipython",
    "version": 3
   },
   "file_extension": ".py",
   "mimetype": "text/x-python",
   "name": "python",
   "nbconvert_exporter": "python",
   "pygments_lexer": "ipython3",
   "version": "3.6.4"
  }
 },
 "nbformat": 4,
 "nbformat_minor": 2
}
