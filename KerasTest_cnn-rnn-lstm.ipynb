{
 "cells": [
  {
   "cell_type": "code",
   "execution_count": 1,
   "metadata": {},
   "outputs": [
    {
     "name": "stderr",
     "output_type": "stream",
     "text": [
      "C:\\Users\\lenovo_pc\\Anaconda3\\lib\\site-packages\\h5py\\__init__.py:36: FutureWarning: Conversion of the second argument of issubdtype from `float` to `np.floating` is deprecated. In future, it will be treated as `np.float64 == np.dtype(float).type`.\n",
      "  from ._conv import register_converters as _register_converters\n",
      "Using TensorFlow backend.\n"
     ]
    }
   ],
   "source": [
    "import keras\n",
    "import numpy as np\n",
    "import matplotlib.pyplot as plt\n",
    "import os\n",
    "import pandas as pd\n",
    "import librosa\n",
    "from keras.utils import to_categorical"
   ]
  },
  {
   "cell_type": "code",
   "execution_count": 2,
   "metadata": {},
   "outputs": [],
   "source": [
    "DATA_PATH = r'C:\\Users\\lenovo_pc\\Desktop\\CNN_SR\\BanglaAudio'\n"
   ]
  },
  {
   "cell_type": "code",
   "execution_count": 3,
   "metadata": {},
   "outputs": [],
   "source": [
    "def get_labels(path=DATA_PATH):\n",
    "    labels = os.listdir(path)\n",
    "    label_indices = np.arange(0, len(labels))    \n",
    "    return labels, label_indices, to_categorical(label_indices)\n",
    "\n",
    "\n",
    "\n"
   ]
  },
  {
   "cell_type": "code",
   "execution_count": 4,
   "metadata": {},
   "outputs": [],
   "source": [
    "from sklearn.model_selection import train_test_split\n",
    "\n",
    "def get_train_test(split_ratio=0.6, random_state=42):\n",
    "    # Get available labels\n",
    "    labels, indices, _ = get_labels(DATA_PATH)\n",
    "\n",
    "    # Getting first arrays\n",
    "    X = np.load(labels[0] + '.npy')\n",
    "    y = np.zeros(X.shape[0])\n",
    "\n",
    "    # Append all of the dataset into one single array, same goes for y\n",
    "    for i, label in enumerate(labels[1:]):\n",
    "        x = np.load(label + '.npy')\n",
    "        X = np.vstack((X, x))\n",
    "        y = np.append(y, np.full(x.shape[0], fill_value= (i + 1)))\n",
    "\n",
    "    assert X.shape[0] == len(y)\n",
    "\n",
    "    return train_test_split(X, y, test_size= (1 - split_ratio), random_state=random_state, shuffle=True)\n",
    "\n",
    "\n",
    "\n",
    "def save_data_to_array(path=DATA_PATH, max_pad_len=30):\n",
    "    labels, _, _ = get_labels(path)\n",
    "\n",
    "    for label in labels:\n",
    "        # Init mfcc vectors\n",
    "        mfcc_vectors = []\n",
    "\n",
    "        wavfiles = [path + '/' + label + '/' + wavfile for wavfile in os.listdir(path + '/' + label)]\n",
    "        #wavfiles = librosa.util.find_files(db)\n",
    "        #print(wavfiles)\n",
    "        for wavfile in wavfiles:\n",
    "            mfcc = wav2mfcc(wavfile, max_pad_len=max_pad_len)\n",
    "            mfcc_vectors.append(mfcc)\n",
    "        np.save(label + '.npy', mfcc_vectors)\n",
    "        \n",
    "        \n",
    "max_pad_len=30\n",
    "\n",
    "def wav2mfcc(file_path, max_pad_len=30):\n",
    "    wave, sr = librosa.load(file_path)\n",
    "    mfcc = librosa.feature.melspectrogram(wave, sr=sr)\n",
    "    pad_width = max_pad_len - mfcc.shape[1]\n",
    "    mfcc = np.pad(mfcc, pad_width=((0, 0), (0, pad_width)), mode='constant')\n",
    "    return mfcc"
   ]
  },
  {
   "cell_type": "code",
   "execution_count": 5,
   "metadata": {},
   "outputs": [],
   "source": [
    "DATA_PATH = r'C:\\Users\\lenovo_pc\\Desktop\\CNN_SR\\BanglaAudio'\n",
    "\n",
    "\n",
    "#db = r'C:\\Users\\lenovo_pc\\Desktop\\CNN_SR\\SampleData'\n",
    "\n",
    "\n",
    "# Second dimension of the feature is dim2\n",
    "feature_dim_2 = 30\n",
    "\n",
    "# Save data to array file first\n",
    "save_data_to_array(DATA_PATH,feature_dim_2)\n",
    "\n",
    "# # Loading train set and test set\n",
    "X_train, X_test, y_train, y_test = get_train_test()\n",
    "\n",
    "# # Feature dimension\n",
    "feature_dim_1 = 128\n",
    "channel = 1\n",
    "epochs = 50\n",
    "batch_size = 100\n",
    "verbose = 1\n",
    "num_classes = 2\n",
    "\n",
    "\n",
    "y_train_hot = to_categorical(y_train)\n",
    "y_test_hot = to_categorical(y_test)"
   ]
  },
  {
   "cell_type": "code",
   "execution_count": 6,
   "metadata": {},
   "outputs": [
    {
     "name": "stdout",
     "output_type": "stream",
     "text": [
      "(38, 128, 30)\n",
      "(26, 128, 30)\n"
     ]
    }
   ],
   "source": [
    "\n",
    "#X_train = np.array(x_train)\n",
    "print(X_train.shape)\n",
    "print(X_test.shape)\n"
   ]
  },
  {
   "cell_type": "code",
   "execution_count": 21,
   "metadata": {},
   "outputs": [],
   "source": [
    "from keras.models import Sequential\n",
    "from keras.layers import Dense, Dropout\n",
    "from keras.layers import Embedding\n",
    "from keras.layers import Conv1D, GlobalAveragePooling1D, MaxPooling1D"
   ]
  },
  {
   "cell_type": "code",
   "execution_count": 25,
   "metadata": {},
   "outputs": [],
   "source": [
    "seq_length = 128\n",
    "\n",
    "model = Sequential()\n",
    "model.add(Conv1D(64, 3, activation='relu', input_shape=(seq_length,30)))\n",
    "model.add(Conv1D(64, 3, activation='relu'))\n",
    "model.add(MaxPooling1D(3))\n",
    "model.add(Conv1D(128, 3, activation='relu'))\n",
    "model.add(Conv1D(128, 3, activation='relu'))\n",
    "model.add(GlobalAveragePooling1D())\n",
    "model.add(Dropout(0.5))\n",
    "model.add(Dense(2, activation='sigmoid'))\n"
   ]
  },
  {
   "cell_type": "code",
   "execution_count": 26,
   "metadata": {},
   "outputs": [],
   "source": [
    "model.compile(loss='binary_crossentropy',\n",
    "              optimizer='rmsprop',\n",
    "              metrics=['accuracy'])"
   ]
  },
  {
   "cell_type": "code",
   "execution_count": 27,
   "metadata": {},
   "outputs": [
    {
     "name": "stdout",
     "output_type": "stream",
     "text": [
      "Train on 38 samples, validate on 26 samples\n",
      "Epoch 1/50\n",
      "38/38 [==============================] - 5s 138ms/step - loss: 0.6041 - acc: 0.6579 - val_loss: 0.7828 - val_acc: 0.7115\n",
      "Epoch 2/50\n",
      "38/38 [==============================] - 2s 53ms/step - loss: 0.8097 - acc: 0.7500 - val_loss: 0.9934 - val_acc: 0.5385\n",
      "Epoch 3/50\n",
      "38/38 [==============================] - 2s 53ms/step - loss: 0.8058 - acc: 0.5526 - val_loss: 0.1368 - val_acc: 1.0000\n",
      "Epoch 4/50\n",
      "38/38 [==============================] - 2s 50ms/step - loss: 0.2325 - acc: 0.9211 - val_loss: 0.0548 - val_acc: 1.0000\n",
      "Epoch 5/50\n",
      "38/38 [==============================] - 2s 50ms/step - loss: 0.0597 - acc: 1.0000 - val_loss: 0.0441 - val_acc: 1.0000\n",
      "Epoch 6/50\n",
      "38/38 [==============================] - 2s 51ms/step - loss: 0.0657 - acc: 1.0000 - val_loss: 0.0337 - val_acc: 1.0000\n",
      "Epoch 7/50\n",
      "38/38 [==============================] - 2s 56ms/step - loss: 0.0435 - acc: 1.0000 - val_loss: 0.0267 - val_acc: 1.0000\n",
      "Epoch 8/50\n",
      "38/38 [==============================] - 2s 47ms/step - loss: 0.0442 - acc: 1.0000 - val_loss: 0.0210 - val_acc: 1.0000\n",
      "Epoch 9/50\n",
      "38/38 [==============================] - 2s 53ms/step - loss: 0.0428 - acc: 1.0000 - val_loss: 0.0168 - val_acc: 1.0000\n",
      "Epoch 10/50\n",
      "38/38 [==============================] - 2s 53ms/step - loss: 0.0305 - acc: 1.0000 - val_loss: 0.0128 - val_acc: 1.0000\n",
      "Epoch 11/50\n",
      "38/38 [==============================] - 2s 45ms/step - loss: 0.0210 - acc: 1.0000 - val_loss: 0.0105 - val_acc: 1.0000\n",
      "Epoch 12/50\n",
      "38/38 [==============================] - 2s 44ms/step - loss: 0.0232 - acc: 1.0000 - val_loss: 0.0079 - val_acc: 1.0000\n",
      "Epoch 13/50\n",
      "38/38 [==============================] - 2s 51ms/step - loss: 0.0194 - acc: 1.0000 - val_loss: 0.0060 - val_acc: 1.0000\n",
      "Epoch 14/50\n",
      "38/38 [==============================] - 2s 50ms/step - loss: 0.0130 - acc: 1.0000 - val_loss: 0.0050 - val_acc: 1.0000\n",
      "Epoch 15/50\n",
      "38/38 [==============================] - 2s 56ms/step - loss: 0.0120 - acc: 1.0000 - val_loss: 0.0041 - val_acc: 1.0000\n",
      "Epoch 16/50\n",
      "38/38 [==============================] - 2s 54ms/step - loss: 0.0133 - acc: 1.0000 - val_loss: 0.0031 - val_acc: 1.0000\n",
      "Epoch 17/50\n",
      "38/38 [==============================] - 2s 51ms/step - loss: 0.0084 - acc: 1.0000 - val_loss: 0.0027 - val_acc: 1.0000\n",
      "Epoch 18/50\n",
      "38/38 [==============================] - 2s 45ms/step - loss: 0.0082 - acc: 1.0000 - val_loss: 0.0022 - val_acc: 1.0000\n",
      "Epoch 19/50\n",
      "38/38 [==============================] - 2s 54ms/step - loss: 0.0076 - acc: 1.0000 - val_loss: 0.0019 - val_acc: 1.0000\n",
      "Epoch 20/50\n",
      "38/38 [==============================] - 2s 51ms/step - loss: 0.0086 - acc: 1.0000 - val_loss: 0.0016 - val_acc: 1.0000\n",
      "Epoch 21/50\n",
      "38/38 [==============================] - 2s 42ms/step - loss: 0.0034 - acc: 1.0000 - val_loss: 0.0013 - val_acc: 1.0000\n",
      "Epoch 22/50\n",
      "38/38 [==============================] - 3s 70ms/step - loss: 0.0054 - acc: 1.0000 - val_loss: 0.0011 - val_acc: 1.0000\n",
      "Epoch 23/50\n",
      "38/38 [==============================] - 3s 91ms/step - loss: 0.0055 - acc: 1.0000 - val_loss: 8.2963e-04 - val_acc: 1.0000\n",
      "Epoch 24/50\n",
      "38/38 [==============================] - 3s 72ms/step - loss: 0.0035 - acc: 1.0000 - val_loss: 7.0447e-04 - val_acc: 1.0000\n",
      "Epoch 25/50\n",
      "38/38 [==============================] - 2s 64ms/step - loss: 0.0081 - acc: 1.0000 - val_loss: 6.1170e-04 - val_acc: 1.0000\n",
      "Epoch 26/50\n",
      "38/38 [==============================] - 2s 62ms/step - loss: 0.0035 - acc: 1.0000 - val_loss: 4.8915e-04 - val_acc: 1.0000\n",
      "Epoch 27/50\n",
      "38/38 [==============================] - 2s 65ms/step - loss: 0.0080 - acc: 1.0000 - val_loss: 3.5334e-04 - val_acc: 1.0000\n",
      "Epoch 28/50\n",
      "38/38 [==============================] - 2s 62ms/step - loss: 0.0046 - acc: 1.0000 - val_loss: 2.8855e-04 - val_acc: 1.0000\n",
      "Epoch 29/50\n",
      "38/38 [==============================] - 2s 52ms/step - loss: 0.0033 - acc: 1.0000 - val_loss: 2.3466e-04 - val_acc: 1.0000\n",
      "Epoch 30/50\n",
      "38/38 [==============================] - 2s 63ms/step - loss: 0.0012 - acc: 1.0000 - val_loss: 2.1094e-04 - val_acc: 1.0000\n",
      "Epoch 31/50\n",
      "38/38 [==============================] - 2s 58ms/step - loss: 0.0035 - acc: 1.0000 - val_loss: 1.7175e-04 - val_acc: 1.0000\n",
      "Epoch 32/50\n",
      "38/38 [==============================] - 2s 57ms/step - loss: 0.0065 - acc: 1.0000 - val_loss: 1.3984e-04 - val_acc: 1.0000\n",
      "Epoch 33/50\n",
      "38/38 [==============================] - 2s 60ms/step - loss: 0.0016 - acc: 1.0000 - val_loss: 1.2667e-04 - val_acc: 1.0000\n",
      "Epoch 34/50\n",
      "38/38 [==============================] - 2s 62ms/step - loss: 0.0010 - acc: 1.0000 - val_loss: 1.1462e-04 - val_acc: 1.0000\n",
      "Epoch 35/50\n",
      "38/38 [==============================] - 3s 67ms/step - loss: 0.0014 - acc: 1.0000 - val_loss: 1.0017e-04 - val_acc: 1.0000\n",
      "Epoch 36/50\n",
      "38/38 [==============================] - 2s 61ms/step - loss: 0.0011 - acc: 1.0000 - val_loss: 9.1569e-05 - val_acc: 1.0000\n",
      "Epoch 37/50\n",
      "38/38 [==============================] - 2s 50ms/step - loss: 0.0011 - acc: 1.0000 - val_loss: 8.1070e-05 - val_acc: 1.0000\n",
      "Epoch 38/50\n",
      "38/38 [==============================] - 2s 45ms/step - loss: 6.6129e-04 - acc: 1.0000 - val_loss: 6.2586e-05 - val_acc: 1.0000\n",
      "Epoch 39/50\n",
      "38/38 [==============================] - 2s 47ms/step - loss: 0.0015 - acc: 1.0000 - val_loss: 5.7710e-05 - val_acc: 1.0000\n",
      "Epoch 40/50\n",
      "38/38 [==============================] - 2s 51ms/step - loss: 7.2572e-04 - acc: 1.0000 - val_loss: 5.3004e-05 - val_acc: 1.0000\n",
      "Epoch 41/50\n",
      "38/38 [==============================] - 2s 55ms/step - loss: 0.0012 - acc: 1.0000 - val_loss: 4.9727e-05 - val_acc: 1.0000\n",
      "Epoch 42/50\n",
      "38/38 [==============================] - 2s 55ms/step - loss: 0.0018 - acc: 1.0000 - val_loss: 4.8262e-05 - val_acc: 1.0000\n",
      "Epoch 43/50\n",
      "38/38 [==============================] - 2s 44ms/step - loss: 7.5912e-04 - acc: 1.0000 - val_loss: 4.2912e-05 - val_acc: 1.0000\n",
      "Epoch 44/50\n",
      "38/38 [==============================] - 2s 49ms/step - loss: 3.5998e-04 - acc: 1.0000 - val_loss: 4.0736e-05 - val_acc: 1.0000\n",
      "Epoch 45/50\n",
      "38/38 [==============================] - 2s 47ms/step - loss: 0.0016 - acc: 1.0000 - val_loss: 1.6968e-05 - val_acc: 1.0000\n",
      "Epoch 46/50\n",
      "38/38 [==============================] - 2s 49ms/step - loss: 6.5333e-04 - acc: 1.0000 - val_loss: 1.4041e-05 - val_acc: 1.0000\n",
      "Epoch 47/50\n",
      "38/38 [==============================] - 2s 46ms/step - loss: 2.1514e-04 - acc: 1.0000 - val_loss: 1.3737e-05 - val_acc: 1.0000\n",
      "Epoch 48/50\n",
      "38/38 [==============================] - 2s 51ms/step - loss: 0.0018 - acc: 1.0000 - val_loss: 8.6639e-06 - val_acc: 1.0000\n",
      "Epoch 49/50\n",
      "38/38 [==============================] - 2s 52ms/step - loss: 3.1078e-04 - acc: 1.0000 - val_loss: 7.7936e-06 - val_acc: 1.0000\n",
      "Epoch 50/50\n",
      "38/38 [==============================] - 2s 49ms/step - loss: 1.5433e-04 - acc: 1.0000 - val_loss: 7.6775e-06 - val_acc: 1.0000\n"
     ]
    }
   ],
   "source": [
    "#model.fit(x_train, y_train, batch_size=7, epochs=10)\n",
    "\n",
    "history = model.fit(X_train, y_train_hot, batch_size=batch_size, epochs=epochs, verbose=verbose, validation_data=(X_test, y_test_hot))"
   ]
  },
  {
   "cell_type": "code",
   "execution_count": 28,
   "metadata": {},
   "outputs": [
    {
     "data": {
      "image/png": "[encoded data removed]",
      "text/plain": [
       "<Figure size 432x288 with 1 Axes>"
      ]
     },
     "metadata": {
      "needs_background": "light"
     },
     "output_type": "display_data"
    }
   ],
   "source": [
    "# summarize history for accuracy\n",
    "plt.plot(history.history['acc'])\n",
    "plt.plot(history.history['val_acc'])\n",
    "plt.title('model accuracy')\n",
    "plt.ylabel('accuracy')\n",
    "plt.xlabel('epoch')\n",
    "plt.legend(['train', 'test'], loc='upper left')\n",
    "plt.show()\n"
   ]
  },
  {
   "cell_type": "code",
   "execution_count": 29,
   "metadata": {},
   "outputs": [
    {
     "data": {
      "image/png": "[encoded data removed]",
      "text/plain": [
       "<Figure size 432x288 with 1 Axes>"
      ]
     },
     "metadata": {
      "needs_background": "light"
     },
     "output_type": "display_data"
    }
   ],
   "source": [
    "# summarize history for loss\n",
    "plt.plot(history.history['loss'])\n",
    "plt.plot(history.history['val_loss'])\n",
    "plt.title('model loss')\n",
    "plt.ylabel('loss')\n",
    "plt.xlabel('epoch')\n",
    "plt.legend(['train', 'test'], loc='upper left')\n",
    "plt.show()"
   ]
  },
  {
   "cell_type": "code",
   "execution_count": 35,
   "metadata": {},
   "outputs": [],
   "source": [
    "seq_length = 128\n",
    "\n",
    "model = Sequential()\n",
    "model.add(Conv1D(64, 4, activation='relu', input_shape=(seq_length,30)))\n",
    "model.add(Conv1D(64, 4, activation='relu'))\n",
    "model.add(Conv1D(64, 4, activation='relu'))\n",
    "model.add(Conv1D(64, 4, activation='relu'))\n",
    "model.add(MaxPooling1D(3))\n",
    "model.add(Conv1D(128, 3, activation='relu'))\n",
    "model.add(Conv1D(128, 3, activation='relu'))\n",
    "model.add(Conv1D(128, 3, activation='relu'))\n",
    "model.add(MaxPooling1D(3))\n",
    "model.add(Conv1D(256, 2, activation='relu'))\n",
    "model.add(Conv1D(256, 2, activation='relu'))\n",
    "model.add(GlobalAveragePooling1D())\n",
    "model.add(Dropout(0.5))\n",
    "model.add(Dense(2, activation='sigmoid'))"
   ]
  },
  {
   "cell_type": "code",
   "execution_count": 36,
   "metadata": {},
   "outputs": [],
   "source": [
    "model.compile(loss='binary_crossentropy',\n",
    "              optimizer='sgd',\n",
    "              metrics=['accuracy'])"
   ]
  },
  {
   "cell_type": "code",
   "execution_count": 37,
   "metadata": {},
   "outputs": [
    {
     "name": "stdout",
     "output_type": "stream",
     "text": [
      "Train on 38 samples, validate on 26 samples\n",
      "Epoch 1/10\n",
      "38/38 [==============================] - 8s 201ms/step - loss: 0.7035 - acc: 0.4079 - val_loss: 0.6781 - val_acc: 0.6731\n",
      "Epoch 2/10\n",
      "38/38 [==============================] - 5s 144ms/step - loss: 0.6782 - acc: 0.6184 - val_loss: 0.6614 - val_acc: 0.7885\n",
      "Epoch 3/10\n",
      "38/38 [==============================] - 6s 165ms/step - loss: 0.6586 - acc: 0.6711 - val_loss: 0.6415 - val_acc: 0.8846\n",
      "Epoch 4/10\n",
      "38/38 [==============================] - 7s 183ms/step - loss: 0.6355 - acc: 0.8026 - val_loss: 0.6171 - val_acc: 0.9231\n",
      "Epoch 5/10\n",
      "38/38 [==============================] - 6s 166ms/step - loss: 0.6199 - acc: 0.8026 - val_loss: 0.5868 - val_acc: 0.9231\n",
      "Epoch 6/10\n",
      "38/38 [==============================] - 7s 193ms/step - loss: 0.5802 - acc: 0.8421 - val_loss: 0.5477 - val_acc: 0.9423\n",
      "Epoch 7/10\n",
      "38/38 [==============================] - 6s 160ms/step - loss: 0.5673 - acc: 0.7500 - val_loss: 0.5019 - val_acc: 0.9615\n",
      "Epoch 8/10\n",
      "38/38 [==============================] - 7s 178ms/step - loss: 0.5021 - acc: 0.8816 - val_loss: 0.4570 - val_acc: 0.9615\n",
      "Epoch 9/10\n",
      "38/38 [==============================] - 7s 177ms/step - loss: 0.4649 - acc: 0.9342 - val_loss: 0.4035 - val_acc: 0.9615\n",
      "Epoch 10/10\n",
      "38/38 [==============================] - 7s 175ms/step - loss: 0.4345 - acc: 0.9211 - val_loss: 0.3454 - val_acc: 0.9808\n"
     ]
    }
   ],
   "source": [
    "\n",
    "history = model.fit(X_train, y_train_hot, batch_size=7, epochs=10, validation_data=(X_test, y_test_hot))"
   ]
  },
  {
   "cell_type": "code",
   "execution_count": 38,
   "metadata": {},
   "outputs": [
    {
     "data": {
      "image/png": "[encoded data removed]",
      "text/plain": [
       "<Figure size 432x288 with 1 Axes>"
      ]
     },
     "metadata": {
      "needs_background": "light"
     },
     "output_type": "display_data"
    }
   ],
   "source": [
    "# summarize history for accuracy\n",
    "plt.plot(history.history['acc'])\n",
    "plt.plot(history.history['val_acc'])\n",
    "plt.title('model accuracy')\n",
    "plt.ylabel('accuracy')\n",
    "plt.xlabel('epoch')\n",
    "plt.legend(['train', 'test'], loc='upper left')\n",
    "plt.show()"
   ]
  },
  {
   "cell_type": "code",
   "execution_count": 39,
   "metadata": {},
   "outputs": [
    {
     "data": {
      "image/png": "[encoded data removed]",
      "text/plain": [
       "<Figure size 432x288 with 1 Axes>"
      ]
     },
     "metadata": {
      "needs_background": "light"
     },
     "output_type": "display_data"
    }
   ],
   "source": [
    "# summarize history for loss\n",
    "plt.plot(history.history['loss'])\n",
    "plt.plot(history.history['val_loss'])\n",
    "plt.title('model loss')\n",
    "plt.ylabel('loss')\n",
    "plt.xlabel('epoch')\n",
    "plt.legend(['train', 'test'], loc='upper left')\n",
    "plt.show()"
   ]
  },
  {
   "cell_type": "code",
   "execution_count": 7,
   "metadata": {},
   "outputs": [],
   "source": [
    "import numpy as np\n",
    "from keras.models import Sequential\n",
    "from keras.layers import Dense, Dropout, Activation, Flatten, LSTM\n",
    "from keras.layers import Convolution2D, MaxPooling2D\n",
    "from keras.optimizers import Adam\n",
    "from keras.callbacks import EarlyStopping,ReduceLROnPlateau,ModelCheckpoint,TensorBoard,ProgbarLogger\n",
    "from keras.utils import np_utils\n",
    "from sklearn import metrics \n",
    "from sklearn.metrics import confusion_matrix, classification_report, accuracy_score\n",
    "from sklearn.preprocessing import LabelEncoder\n",
    "import itertools"
   ]
  },
  {
   "cell_type": "code",
   "execution_count": 9,
   "metadata": {},
   "outputs": [
    {
     "name": "stdout",
     "output_type": "stream",
     "text": [
      "Build LSTM RNN model ...\n",
      "_________________________________________________________________\n",
      "Layer (type)                 Output Shape              Param #   \n",
      "=================================================================\n",
      "lstm_3 (LSTM)                (None, 128, 64)           24320     \n",
      "_________________________________________________________________\n",
      "lstm_4 (LSTM)                (None, 32)                12416     \n",
      "_________________________________________________________________\n",
      "dense_1 (Dense)              (None, 2)                 66        \n",
      "=================================================================\n",
      "Total params: 36,802\n",
      "Trainable params: 36,802\n",
      "Non-trainable params: 0\n",
      "_________________________________________________________________\n"
     ]
    }
   ],
   "source": [
    "print('Build LSTM RNN model ...')\n",
    "model = Sequential()\n",
    "model.add(LSTM(units=64, dropout=0.05, recurrent_dropout=0.20, return_sequences=True,input_shape = (128,30)))\n",
    "model.add(LSTM(units=32, dropout=0.05, recurrent_dropout=0.20, return_sequences=False))\n",
    "model.add(Dense(2, activation='softmax'))\n",
    "model.compile(loss='categorical_crossentropy', optimizer='Adamax', metrics=['acc','mse', 'mae', 'mape', 'cosine'])\n",
    "model.summary()"
   ]
  },
  {
   "cell_type": "code",
   "execution_count": 11,
   "metadata": {},
   "outputs": [
    {
     "name": "stdout",
     "output_type": "stream",
     "text": [
      "training started..... please wait.\n",
      "\n",
      "Epoch 00001: loss improved from inf to 0.69024, saving model to ./best_model_trained.hdf5\n",
      "\n",
      "Epoch 00002: loss improved from 0.69024 to 0.68256, saving model to ./best_model_trained.hdf5\n",
      "\n",
      "Epoch 00003: loss improved from 0.68256 to 0.67774, saving model to ./best_model_trained.hdf5\n",
      "\n",
      "Epoch 00004: loss improved from 0.67774 to 0.66547, saving model to ./best_model_trained.hdf5\n",
      "\n",
      "Epoch 00005: loss improved from 0.66547 to 0.61188, saving model to ./best_model_trained.hdf5\n",
      "\n",
      "Epoch 00006: loss improved from 0.61188 to 0.51389, saving model to ./best_model_trained.hdf5\n",
      "\n",
      "Epoch 00007: loss improved from 0.51389 to 0.35278, saving model to ./best_model_trained.hdf5\n",
      "\n",
      "Epoch 00008: loss did not improve from 0.35278\n",
      "\n",
      "Epoch 00009: loss improved from 0.35278 to 0.31722, saving model to ./best_model_trained.hdf5\n",
      "\n",
      "Epoch 00010: loss improved from 0.31722 to 0.29508, saving model to ./best_model_trained.hdf5\n",
      "\n",
      "Epoch 00011: loss did not improve from 0.29508\n",
      "\n",
      "Epoch 00012: loss improved from 0.29508 to 0.23588, saving model to ./best_model_trained.hdf5\n",
      "\n",
      "Epoch 00013: loss did not improve from 0.23588\n",
      "\n",
      "Epoch 00014: loss improved from 0.23588 to 0.17438, saving model to ./best_model_trained.hdf5\n",
      "\n",
      "Epoch 00015: loss did not improve from 0.17438\n",
      "\n",
      "Epoch 00016: loss improved from 0.17438 to 0.12748, saving model to ./best_model_trained.hdf5\n",
      "\n",
      "Epoch 00017: loss did not improve from 0.12748\n",
      "\n",
      "Epoch 00018: loss did not improve from 0.12748\n",
      "\n",
      "Epoch 00019: loss did not improve from 0.12748\n",
      "\n",
      "Epoch 00020: loss did not improve from 0.12748\n",
      "\n",
      "Epoch 00021: loss did not improve from 0.12748\n",
      "\n",
      "Epoch 00022: loss did not improve from 0.12748\n",
      "\n",
      "Epoch 00023: loss did not improve from 0.12748\n",
      "\n",
      "Epoch 00024: loss improved from 0.12748 to 0.12346, saving model to ./best_model_trained.hdf5\n",
      "\n",
      "Epoch 00025: loss did not improve from 0.12346\n",
      "\n",
      "Epoch 00026: loss did not improve from 0.12346\n",
      "\n",
      "Epoch 00027: loss improved from 0.12346 to 0.11158, saving model to ./best_model_trained.hdf5\n",
      "\n",
      "Epoch 00028: loss did not improve from 0.11158\n",
      "\n",
      "Epoch 00029: loss did not improve from 0.11158\n",
      "\n",
      "Epoch 00030: loss improved from 0.11158 to 0.05263, saving model to ./best_model_trained.hdf5\n",
      "\n",
      "Epoch 00031: loss did not improve from 0.05263\n",
      "\n",
      "Epoch 00032: loss did not improve from 0.05263\n",
      "\n",
      "Epoch 00033: loss did not improve from 0.05263\n",
      "\n",
      "Epoch 00034: loss did not improve from 0.05263\n",
      "\n",
      "Epoch 00035: loss did not improve from 0.05263\n",
      "\n",
      "Epoch 00036: loss did not improve from 0.05263\n",
      "\n",
      "Epoch 00037: loss did not improve from 0.05263\n",
      "\n",
      "Epoch 00038: loss did not improve from 0.05263\n",
      "\n",
      "Epoch 00039: loss did not improve from 0.05263\n",
      "\n",
      "Epoch 00040: loss did not improve from 0.05263\n",
      "\n",
      "Epoch 00041: loss did not improve from 0.05263\n",
      "\n",
      "Epoch 00042: loss did not improve from 0.05263\n",
      "\n",
      "Epoch 00043: loss did not improve from 0.05263\n",
      "\n",
      "Epoch 00044: loss did not improve from 0.05263\n",
      "\n",
      "Epoch 00045: loss did not improve from 0.05263\n",
      "\n",
      "Epoch 00046: loss did not improve from 0.05263\n",
      "\n",
      "Epoch 00047: loss did not improve from 0.05263\n",
      "\n",
      "Epoch 00048: loss did not improve from 0.05263\n",
      "\n",
      "Epoch 00049: loss did not improve from 0.05263\n",
      "\n",
      "Epoch 00050: loss did not improve from 0.05263\n",
      "training finised!\n",
      "Wall time: 1min 12s\n"
     ]
    }
   ],
   "source": [
    "%%time\n",
    "# saved model checkpoint file\n",
    "best_model_file=\"./best_model_trained.hdf5\"\n",
    "#train_model_file=file_path+\"/checkpoints/weights.best_{epoch:02d}-{loss:.2f}.hdf5\"\n",
    "MAX_PATIENT=12\n",
    "MAX_EPOCHS=50\n",
    "MAX_BATCH=7\n",
    "\n",
    "# callbacks\n",
    "# removed EarlyStopping(patience=MAX_PATIENT)\n",
    "callback=[ReduceLROnPlateau(patience=MAX_PATIENT, verbose=1),\n",
    "          ModelCheckpoint(filepath=best_model_file, monitor='loss', verbose=1, save_best_only=True)]\n",
    "\n",
    "print (\"training started..... please wait.\")\n",
    "# training\n",
    "history=model.fit(X_train, y_train_hot, \n",
    "                  batch_size=MAX_BATCH, \n",
    "                  epochs=MAX_EPOCHS,\n",
    "                  verbose=0,\n",
    "                  validation_data=(X_test, y_test_hot),\n",
    "                  callbacks=callback) \n",
    "\n",
    "print (\"training finised!\")\n",
    "\n",
    "\n"
   ]
  },
  {
   "cell_type": "code",
   "execution_count": 15,
   "metadata": {},
   "outputs": [
    {
     "name": "stdout",
     "output_type": "stream",
     "text": [
      "model train data score       :  95.0 %\n",
      "model test data score        :  100.0 %\n"
     ]
    }
   ],
   "source": [
    "score = model.evaluate(X_train, y_train_hot, verbose=0) \n",
    "print (\"model train data score       : \",round(score[1]*100) , \"%\")\n",
    "\n",
    "score = model.evaluate(X_test, y_test_hot, verbose=0) \n",
    "print (\"model test data score        : \",round(score[1]*100) , \"%\")\n"
   ]
  },
  {
   "cell_type": "code",
   "execution_count": 16,
   "metadata": {},
   "outputs": [
    {
     "data": {
      "image/png": "[encoded data removed]",
      "text/plain": [
       "<Figure size 432x288 with 1 Axes>"
      ]
     },
     "metadata": {
      "needs_background": "light"
     },
     "output_type": "display_data"
    }
   ],
   "source": [
    "# summarize history for accuracy\n",
    "plt.plot(history.history['acc'])\n",
    "plt.plot(history.history['val_acc'])\n",
    "plt.title('model accuracy')\n",
    "plt.ylabel('accuracy')\n",
    "plt.xlabel('epoch')\n",
    "plt.legend(['train', 'test'], loc='upper left')\n",
    "plt.show()"
   ]
  },
  {
   "cell_type": "code",
   "execution_count": 17,
   "metadata": {},
   "outputs": [
    {
     "data": {
      "image/png": "[encoded data removed]",
      "text/plain": [
       "<Figure size 432x288 with 1 Axes>"
      ]
     },
     "metadata": {
      "needs_background": "light"
     },
     "output_type": "display_data"
    }
   ],
   "source": [
    "# summarize history for loss\n",
    "plt.plot(history.history['loss'])\n",
    "plt.plot(history.history['val_loss'])\n",
    "plt.title('model loss')\n",
    "plt.ylabel('loss')\n",
    "plt.xlabel('epoch')\n",
    "plt.legend(['train', 'test'], loc='upper left')\n",
    "plt.show()"
   ]
  },
  {
   "cell_type": "code",
   "execution_count": null,
   "metadata": {},
   "outputs": [],
   "source": []
  }
 ],
 "metadata": {
  "kernelspec": {
   "display_name": "Python 3",
   "language": "python",
   "name": "python3"
  },
  "language_info": {
   "codemirror_mode": {
    "name": "ipython",
    "version": 3
   },
   "file_extension": ".py",
   "mimetype": "text/x-python",
   "name": "python",
   "nbconvert_exporter": "python",
   "pygments_lexer": "ipython3",
   "version": "3.6.4"
  }
 },
 "nbformat": 4,
 "nbformat_minor": 2
}
